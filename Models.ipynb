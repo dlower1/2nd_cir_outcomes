{
 "cells": [
  {
   "cell_type": "code",
   "execution_count": 1,
   "metadata": {},
   "outputs": [],
   "source": [
    "import numpy as np\n",
    "import pandas as pd\n",
    "from sklearn.model_selection import RandomizedSearchCV, train_test_split, KFold, cross_val_score\n",
    "from sklearn.metrics import classification_report, confusion_matrix\n",
    "\n",
    "from sklearn.linear_model import LogisticRegression\n",
    "#from sklearn.neighbors import KNeighborsClassifier\n",
    "#from sklearn.naive_bayes import MultinomialNB, BernoulliNB\n",
    "from sklearn.ensemble import RandomForestClassifier\n",
    "#from sklearn.svm import LinearSVC\n",
    "\n",
    "#from keras.models import Sequential\n",
    "#from keras.layers import Dense\n",
    "#from keras import regularizers\n",
    "#from keras import optimizers\n",
    "\n",
    "#from keras.layers import Dropout\n",
    "#from keras.utils import to_categorical\n",
    "#import tensorflow as tf"
   ]
  },
  {
   "cell_type": "code",
   "execution_count": 2,
   "metadata": {},
   "outputs": [],
   "source": [
    "#cites = pd.read_csv('./data/Train/2012-13/2012-13_cites.csv')\n",
    "#judges = pd.read_csv('./data/Train/2012-16X1_judges.csv')\n",
    "target = pd.read_csv('./data/Train/2012-13/2012-13_targetscore.csv')\n",
    "#X_test = pd.read_csv('./data/test/2014/2014_cites.csv')\n",
    "#y_test = pd.read_csv('./data/test/2014/2014X1_targetscore.csv')"
   ]
  },
  {
   "cell_type": "code",
   "execution_count": 3,
   "metadata": {},
   "outputs": [
    {
     "data": {
      "text/plain": [
       "3935"
      ]
     },
     "execution_count": 3,
     "metadata": {},
     "output_type": "execute_result"
    }
   ],
   "source": [
    "len(cites)"
   ]
  },
  {
   "cell_type": "code",
   "execution_count": null,
   "metadata": {},
   "outputs": [],
   "source": [
    "#len(judges)"
   ]
  },
  {
   "cell_type": "code",
   "execution_count": 3,
   "metadata": {},
   "outputs": [
    {
     "data": {
      "text/plain": [
       "3935"
      ]
     },
     "execution_count": 3,
     "metadata": {},
     "output_type": "execute_result"
    }
   ],
   "source": [
    "len(target)"
   ]
  },
  {
   "cell_type": "code",
   "execution_count": 4,
   "metadata": {},
   "outputs": [
    {
     "data": {
      "text/plain": [
       "-2    2291\n",
       "-1     788\n",
       " 0     283\n",
       " 2     268\n",
       " 1     111\n",
       " 3      81\n",
       "-3      80\n",
       " 4      26\n",
       " 5       4\n",
       "-4       3\n",
       "Name: target_score, dtype: int64"
      ]
     },
     "execution_count": 4,
     "metadata": {},
     "output_type": "execute_result"
    }
   ],
   "source": [
    "target['target_score'].value_counts()"
   ]
  },
  {
   "cell_type": "code",
   "execution_count": 7,
   "metadata": {},
   "outputs": [
    {
     "data": {
      "text/plain": [
       "0.08733924543731841"
      ]
     },
     "execution_count": 7,
     "metadata": {},
     "output_type": "execute_result"
    }
   ],
   "source": [
    "0.6695501730103807-(2291/3935.0)"
   ]
  },
  {
   "cell_type": "code",
   "execution_count": null,
   "metadata": {},
   "outputs": [],
   "source": [
    "target['flat_target'] = target['target_score'].apply(lambda x: 0 if x < 0 else 1)"
   ]
  },
  {
   "cell_type": "code",
   "execution_count": null,
   "metadata": {},
   "outputs": [],
   "source": [
    "target['flat_target'].value_counts()"
   ]
  },
  {
   "cell_type": "code",
   "execution_count": null,
   "metadata": {},
   "outputs": [],
   "source": [
    "1573/1925.0"
   ]
  },
  {
   "cell_type": "code",
   "execution_count": null,
   "metadata": {},
   "outputs": [],
   "source": [
    "big_df = cites.merge(judges, left_index=True, right_index=True)"
   ]
  },
  {
   "cell_type": "code",
   "execution_count": null,
   "metadata": {},
   "outputs": [],
   "source": [
    "X_train, X_test, y_train, y_test = train_test_split(cites, target['target_score'], test_size=.33)"
   ]
  },
  {
   "cell_type": "code",
   "execution_count": null,
   "metadata": {},
   "outputs": [],
   "source": [
    "# Prepare classification models\n",
    "models = []\n",
    "models.append(('LOG', LogisticRegression()))\n",
    "#models.append(('SGDC', SGDClassifier()))\n",
    "models.append(('KNN', KNeighborsClassifier()))\n",
    "models.append(('RFRST', RandomForestClassifier()))\n",
    "models.append(('LSVM', LinearSVC()))\n",
    "models.append(('MNB', MultinomialNB()))\n",
    "# Evaluate each model in turn\n",
    "results = []\n",
    "names = []\n",
    "scoring = 'accuracy'\n",
    "for name, model in models:\n",
    "    kfold = KFold(n_splits=3)\n",
    "    cv_results = cross_val_score(model, cites, target['target_score'], cv=kfold, scoring=scoring)\n",
    "    results.append(cv_results)\n",
    "    names.append(name)\n",
    "    msg = \"%s: %f (%f)\" % (name, cv_results.mean(), cv_results.std())\n",
    "    print(msg)"
   ]
  },
  {
   "cell_type": "code",
   "execution_count": null,
   "metadata": {},
   "outputs": [],
   "source": [
    "target['target_score'].value_counts()"
   ]
  },
  {
   "cell_type": "code",
   "execution_count": null,
   "metadata": {},
   "outputs": [],
   "source": [
    "1082/1925.0"
   ]
  },
  {
   "cell_type": "code",
   "execution_count": null,
   "metadata": {},
   "outputs": [],
   "source": [
    "log = LogisticRegression()\n",
    "\n",
    "log_param = {'C':np.logspace(-4, 4, 10000), 'solver':['newton-cg', 'lbfgs', 'sag', 'saga'], 'class_weight':['balanced', None], 'max_iter':np.linspace(100, 1000, 10000)}\n",
    "\n",
    "log_ran = RandomizedSearchCV(log, log_param, n_iter=5, cv=3, verbose=2, n_jobs=1)\n",
    "log_ran.fit(cites, target['target_score'])\n",
    "print log_ran.best_estimator_.score(X_test, y_test)\n",
    "print log_ran.best_params_"
   ]
  },
  {
   "cell_type": "code",
   "execution_count": 5,
   "metadata": {},
   "outputs": [
    {
     "name": "stdout",
     "output_type": "stream",
     "text": [
      "Fitting 3 folds for each of 5 candidates, totalling 15 fits\n",
      "[CV] n_estimators=76, criterion=gini, class_weight=balanced ..........\n",
      "[CV]  n_estimators=76, criterion=gini, class_weight=balanced, total=  20.2s\n",
      "[CV] n_estimators=76, criterion=gini, class_weight=balanced ..........\n"
     ]
    },
    {
     "name": "stderr",
     "output_type": "stream",
     "text": [
      "[Parallel(n_jobs=1)]: Done   1 out of   1 | elapsed:   20.8s remaining:    0.0s\n"
     ]
    },
    {
     "name": "stdout",
     "output_type": "stream",
     "text": [
      "[CV]  n_estimators=76, criterion=gini, class_weight=balanced, total=  19.2s\n",
      "[CV] n_estimators=76, criterion=gini, class_weight=balanced ..........\n",
      "[CV]  n_estimators=76, criterion=gini, class_weight=balanced, total=  19.3s\n",
      "[CV] n_estimators=323, criterion=entropy, class_weight=balanced ......\n",
      "[CV]  n_estimators=323, criterion=entropy, class_weight=balanced, total= 1.4min\n",
      "[CV] n_estimators=323, criterion=entropy, class_weight=balanced ......\n",
      "[CV]  n_estimators=323, criterion=entropy, class_weight=balanced, total= 1.3min\n",
      "[CV] n_estimators=323, criterion=entropy, class_weight=balanced ......\n",
      "[CV]  n_estimators=323, criterion=entropy, class_weight=balanced, total= 1.3min\n",
      "[CV] n_estimators=78, criterion=gini, class_weight=None ..............\n",
      "[CV]  n_estimators=78, criterion=gini, class_weight=None, total=  20.8s\n",
      "[CV] n_estimators=78, criterion=gini, class_weight=None ..............\n",
      "[CV]  n_estimators=78, criterion=gini, class_weight=None, total=  20.7s\n",
      "[CV] n_estimators=78, criterion=gini, class_weight=None ..............\n",
      "[CV]  n_estimators=78, criterion=gini, class_weight=None, total=  20.4s\n",
      "[CV] n_estimators=999, criterion=entropy, class_weight=balanced ......\n",
      "[CV]  n_estimators=999, criterion=entropy, class_weight=balanced, total= 4.1min\n",
      "[CV] n_estimators=999, criterion=entropy, class_weight=balanced ......\n",
      "[CV]  n_estimators=999, criterion=entropy, class_weight=balanced, total= 3.9min\n",
      "[CV] n_estimators=999, criterion=entropy, class_weight=balanced ......\n",
      "[CV]  n_estimators=999, criterion=entropy, class_weight=balanced, total= 4.0min\n",
      "[CV] n_estimators=725, criterion=entropy, class_weight=balanced ......\n",
      "[CV]  n_estimators=725, criterion=entropy, class_weight=balanced, total= 2.9min\n",
      "[CV] n_estimators=725, criterion=entropy, class_weight=balanced ......\n",
      "[CV]  n_estimators=725, criterion=entropy, class_weight=balanced, total= 2.8min\n",
      "[CV] n_estimators=725, criterion=entropy, class_weight=balanced ......\n",
      "[CV]  n_estimators=725, criterion=entropy, class_weight=balanced, total= 2.9min\n"
     ]
    },
    {
     "name": "stderr",
     "output_type": "stream",
     "text": [
      "[Parallel(n_jobs=1)]: Done  15 out of  15 | elapsed: 27.0min finished\n"
     ]
    },
    {
     "name": "stdout",
     "output_type": "stream",
     "text": [
      "0.6695501730103807\n",
      "{'n_estimators': 999, 'criterion': 'entropy', 'class_weight': 'balanced'}\n"
     ]
    }
   ],
   "source": [
    "rf = RandomForestClassifier()\n",
    "\n",
    "rf_param = {'n_estimators': np.random.randint(10, 1000, 10000), 'criterion':['gini', 'entropy'], 'class_weight':[None, 'balanced']}\n",
    "\n",
    "rf_ran = RandomizedSearchCV(rf, rf_param, n_iter=5, cv=3, verbose=2, n_jobs=1)\n",
    "rf_ran.fit(cites, target['target_score'])\n",
    "print rf_ran.best_estimator_.score(X_test, y_test)\n",
    "print rf_ran.best_params_"
   ]
  },
  {
   "cell_type": "code",
   "execution_count": null,
   "metadata": {},
   "outputs": [],
   "source": [
    "conmat_flat = np.array(confusion_matrix(y_test, log_ran.predict(X_test)))\n",
    "\n",
    "confusion_flat = pd.DataFrame(conmat_flat, index=['is_-1', 'is_0', 'is_1'],\n",
    "                         columns=['pre_-1', 'pre_0', 'pre_1'])\n",
    "confusion_flat"
   ]
  },
  {
   "cell_type": "code",
   "execution_count": 7,
   "metadata": {
    "scrolled": true
   },
   "outputs": [
    {
     "data": {
      "text/html": [
       "<div>\n",
       "<style scoped>\n",
       "    .dataframe tbody tr th:only-of-type {\n",
       "        vertical-align: middle;\n",
       "    }\n",
       "\n",
       "    .dataframe tbody tr th {\n",
       "        vertical-align: top;\n",
       "    }\n",
       "\n",
       "    .dataframe thead th {\n",
       "        text-align: right;\n",
       "    }\n",
       "</style>\n",
       "<table border=\"1\" class=\"dataframe\">\n",
       "  <thead>\n",
       "    <tr style=\"text-align: right;\">\n",
       "      <th></th>\n",
       "      <th>pre_-4</th>\n",
       "      <th>pre_-3</th>\n",
       "      <th>pre_-2</th>\n",
       "      <th>pre_-1</th>\n",
       "      <th>pre_0</th>\n",
       "      <th>pre_1</th>\n",
       "      <th>pre_2</th>\n",
       "      <th>pre_3</th>\n",
       "      <th>pre_4</th>\n",
       "      <th>pre_5</th>\n",
       "    </tr>\n",
       "  </thead>\n",
       "  <tbody>\n",
       "    <tr>\n",
       "      <th>is_-4</th>\n",
       "      <td>0</td>\n",
       "      <td>0</td>\n",
       "      <td>2</td>\n",
       "      <td>0</td>\n",
       "      <td>0</td>\n",
       "      <td>0</td>\n",
       "      <td>0</td>\n",
       "      <td>0</td>\n",
       "      <td>0</td>\n",
       "      <td>0</td>\n",
       "    </tr>\n",
       "    <tr>\n",
       "      <th>is_-3</th>\n",
       "      <td>0</td>\n",
       "      <td>0</td>\n",
       "      <td>23</td>\n",
       "      <td>1</td>\n",
       "      <td>1</td>\n",
       "      <td>0</td>\n",
       "      <td>0</td>\n",
       "      <td>0</td>\n",
       "      <td>0</td>\n",
       "      <td>0</td>\n",
       "    </tr>\n",
       "    <tr>\n",
       "      <th>is_-2</th>\n",
       "      <td>0</td>\n",
       "      <td>0</td>\n",
       "      <td>900</td>\n",
       "      <td>52</td>\n",
       "      <td>0</td>\n",
       "      <td>2</td>\n",
       "      <td>0</td>\n",
       "      <td>0</td>\n",
       "      <td>0</td>\n",
       "      <td>0</td>\n",
       "    </tr>\n",
       "    <tr>\n",
       "      <th>is_-1</th>\n",
       "      <td>0</td>\n",
       "      <td>0</td>\n",
       "      <td>86</td>\n",
       "      <td>254</td>\n",
       "      <td>1</td>\n",
       "      <td>2</td>\n",
       "      <td>0</td>\n",
       "      <td>0</td>\n",
       "      <td>0</td>\n",
       "      <td>0</td>\n",
       "    </tr>\n",
       "    <tr>\n",
       "      <th>is_0</th>\n",
       "      <td>0</td>\n",
       "      <td>0</td>\n",
       "      <td>115</td>\n",
       "      <td>21</td>\n",
       "      <td>0</td>\n",
       "      <td>1</td>\n",
       "      <td>1</td>\n",
       "      <td>0</td>\n",
       "      <td>1</td>\n",
       "      <td>0</td>\n",
       "    </tr>\n",
       "    <tr>\n",
       "      <th>is_1</th>\n",
       "      <td>0</td>\n",
       "      <td>0</td>\n",
       "      <td>37</td>\n",
       "      <td>11</td>\n",
       "      <td>0</td>\n",
       "      <td>4</td>\n",
       "      <td>0</td>\n",
       "      <td>0</td>\n",
       "      <td>0</td>\n",
       "      <td>0</td>\n",
       "    </tr>\n",
       "    <tr>\n",
       "      <th>is_2</th>\n",
       "      <td>0</td>\n",
       "      <td>0</td>\n",
       "      <td>119</td>\n",
       "      <td>15</td>\n",
       "      <td>0</td>\n",
       "      <td>0</td>\n",
       "      <td>3</td>\n",
       "      <td>0</td>\n",
       "      <td>1</td>\n",
       "      <td>0</td>\n",
       "    </tr>\n",
       "    <tr>\n",
       "      <th>is_3</th>\n",
       "      <td>0</td>\n",
       "      <td>0</td>\n",
       "      <td>52</td>\n",
       "      <td>14</td>\n",
       "      <td>0</td>\n",
       "      <td>0</td>\n",
       "      <td>0</td>\n",
       "      <td>0</td>\n",
       "      <td>0</td>\n",
       "      <td>0</td>\n",
       "    </tr>\n",
       "    <tr>\n",
       "      <th>is_4</th>\n",
       "      <td>0</td>\n",
       "      <td>0</td>\n",
       "      <td>8</td>\n",
       "      <td>3</td>\n",
       "      <td>0</td>\n",
       "      <td>1</td>\n",
       "      <td>0</td>\n",
       "      <td>0</td>\n",
       "      <td>0</td>\n",
       "      <td>0</td>\n",
       "    </tr>\n",
       "    <tr>\n",
       "      <th>is_5</th>\n",
       "      <td>0</td>\n",
       "      <td>0</td>\n",
       "      <td>3</td>\n",
       "      <td>0</td>\n",
       "      <td>0</td>\n",
       "      <td>0</td>\n",
       "      <td>0</td>\n",
       "      <td>0</td>\n",
       "      <td>0</td>\n",
       "      <td>0</td>\n",
       "    </tr>\n",
       "  </tbody>\n",
       "</table>\n",
       "</div>"
      ],
      "text/plain": [
       "       pre_-4  pre_-3  pre_-2  pre_-1  pre_0  pre_1  pre_2  pre_3  pre_4  \\\n",
       "is_-4       0       0       2       0      0      0      0      0      0   \n",
       "is_-3       0       0      23       1      1      0      0      0      0   \n",
       "is_-2       0       0     900      52      0      2      0      0      0   \n",
       "is_-1       0       0      86     254      1      2      0      0      0   \n",
       "is_0        0       0     115      21      0      1      1      0      1   \n",
       "is_1        0       0      37      11      0      4      0      0      0   \n",
       "is_2        0       0     119      15      0      0      3      0      1   \n",
       "is_3        0       0      52      14      0      0      0      0      0   \n",
       "is_4        0       0       8       3      0      1      0      0      0   \n",
       "is_5        0       0       3       0      0      0      0      0      0   \n",
       "\n",
       "       pre_5  \n",
       "is_-4      0  \n",
       "is_-3      0  \n",
       "is_-2      0  \n",
       "is_-1      0  \n",
       "is_0       0  \n",
       "is_1       0  \n",
       "is_2       0  \n",
       "is_3       0  \n",
       "is_4       0  \n",
       "is_5       0  "
      ]
     },
     "execution_count": 7,
     "metadata": {},
     "output_type": "execute_result"
    }
   ],
   "source": [
    "conmat = np.array(confusion_matrix(y_test, rf_ran.best_estimator_.predict(X_test)))\n",
    "\n",
    "confusion = pd.DataFrame(conmat, index=['is_-4', 'is_-3', 'is_-2','is_-1', 'is_0', 'is_1', 'is_2', 'is_3', 'is_4', 'is_5'],\n",
    "                         columns=['pre_-4','pre_-3', 'pre_-2', 'pre_-1', 'pre_0', 'pre_1', 'pre_2', 'pre_3', 'pre_4', 'pre_5'])\n",
    "confusion"
   ]
  },
  {
   "cell_type": "code",
   "execution_count": 8,
   "metadata": {},
   "outputs": [
    {
     "name": "stdout",
     "output_type": "stream",
     "text": [
      "             precision    recall  f1-score   support\n",
      "\n",
      "         -4       0.00      0.00      0.00         2\n",
      "         -3       0.00      0.00      0.00        25\n",
      "         -2       0.67      0.94      0.78       954\n",
      "         -1       0.68      0.74      0.71       343\n",
      "          0       0.00      0.00      0.00       139\n",
      "          1       0.40      0.08      0.13        52\n",
      "          2       0.75      0.02      0.04       138\n",
      "          3       0.00      0.00      0.00        66\n",
      "          4       0.00      0.00      0.00        12\n",
      "          5       0.00      0.00      0.00         3\n",
      "\n",
      "avg / total       0.58      0.67      0.58      1734\n",
      "\n"
     ]
    },
    {
     "name": "stderr",
     "output_type": "stream",
     "text": [
      "/home/loki/.local/lib/python2.7/site-packages/sklearn/metrics/classification.py:1135: UndefinedMetricWarning: Precision and F-score are ill-defined and being set to 0.0 in labels with no predicted samples.\n",
      "  'precision', 'predicted', average, warn_for)\n"
     ]
    }
   ],
   "source": [
    "print classification_report(y_test, rf_ran.best_estimator_.predict(X_test))"
   ]
  },
  {
   "cell_type": "code",
   "execution_count": null,
   "metadata": {},
   "outputs": [],
   "source": [
    "model = Sequential()\n",
    "model.add(Dense(judges.shape[1], input_dim=judges.shape[1], activation='relu'))\n",
    "model.add(Dense(judges.shape[1], activation='relu'))\n",
    "model.add(Dense(20, activation='relu'))\n",
    "model.add(Dense(16, activation='relu'))\n",
    "model.add(Dense(12, activation='relu'))\n",
    "model.add(Dense(9, activation='softmax'))\n",
    "\n",
    "judge_y = to_categorical(target['target_score'], num_classes=9)\n",
    "adam = optimizers.Adam(lr=.001)"
   ]
  },
  {
   "cell_type": "code",
   "execution_count": null,
   "metadata": {},
   "outputs": [],
   "source": [
    "model.compile(optimizer=adam, loss='categorical_crossentropy', metrics=['accuracy'])"
   ]
  },
  {
   "cell_type": "code",
   "execution_count": null,
   "metadata": {},
   "outputs": [],
   "source": [
    "target['target_score'].value_counts()"
   ]
  },
  {
   "cell_type": "code",
   "execution_count": null,
   "metadata": {},
   "outputs": [],
   "source": [
    "fit_judge_nn = model.fit(judges, judge_y, epochs=150)"
   ]
  },
  {
   "cell_type": "code",
   "execution_count": null,
   "metadata": {},
   "outputs": [],
   "source": []
  }
 ],
 "metadata": {
  "kernelspec": {
   "display_name": "Python 2",
   "language": "python",
   "name": "python2"
  },
  "language_info": {
   "codemirror_mode": {
    "name": "ipython",
    "version": 2
   },
   "file_extension": ".py",
   "mimetype": "text/x-python",
   "name": "python",
   "nbconvert_exporter": "python",
   "pygments_lexer": "ipython2",
   "version": "2.7.14"
  }
 },
 "nbformat": 4,
 "nbformat_minor": 2
}
