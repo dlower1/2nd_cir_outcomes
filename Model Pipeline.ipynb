{
 "cells": [
  {
   "cell_type": "code",
   "execution_count": 1,
   "metadata": {},
   "outputs": [],
   "source": [
    "import numpy as np\n",
    "import pandas as pd\n",
    "import matplotlib.pyplot as plt\n",
    "import seaborn as sns\n",
    "import re\n",
    "import pickle\n",
    "from sklearn.feature_extraction.text import CountVectorizer\n",
    "from scipy.stats import randint\n",
    "from sklearn.feature_extraction.text import CountVectorizer\n",
    "from sklearn.preprocessing import MinMaxScaler\n",
    "from sklearn.pipeline import Pipeline\n",
    "from sklearn.model_selection import RandomizedSearchCV, StratifiedKFold\n",
    "from sklearn.linear_model import LogisticRegression\n",
    "#from sklearn.neighbors import KNeighborsClassifier\n",
    "#from sklearn.svm import LinearSVC\n",
    "#from sklearn.naive_bayes import MultinomialNB\n",
    "#from sklearn.ensemble import AdaBoostClassifier, GradientBoostingClassifier, RandomForestClassifier\n",
    "from sklearn.neural_network import MLPClassifier\n",
    "\n",
    "\n",
    "% matplotlib inline"
   ]
  },
  {
   "cell_type": "code",
   "execution_count": null,
   "metadata": {},
   "outputs": [],
   "source": [
    "train_path = './data/2012/2ndcir2012X1_scraped2093.csv'\n",
    "train = pd.read_csv(train_path, encoding='utf-8')\n",
    "\n",
    "years =[('2013', '1974'), ('2014', '1793'), ('2015', '1602'), ('2016', '1655')]\n",
    "\n",
    "for y, s in years:\n",
    "    in_path = './data/{}/2ndcir{}_scraped{}.csv'.format(y, y, s)\n",
    "    test = pd.read_csv(in_path, encoding='utf-8')"
   ]
  },
  {
   "cell_type": "code",
   "execution_count": 45,
   "metadata": {},
   "outputs": [],
   "source": [
    "train_path = './data/2012/2ndcir2012X1_scraped2093.csv'\n",
    "train = pd.read_csv(train_path, encoding='utf-8')"
   ]
  },
  {
   "cell_type": "code",
   "execution_count": 46,
   "metadata": {},
   "outputs": [],
   "source": [
    "bia = 'Board\\sof\\sImmigration\\sAppeals|\"BIA\"|B[.]I[.]A[.]|BIA'\n",
    "BIA_train = [True if len(re.findall(bia, x)) > 0 else False for x in train['raw_text']]"
   ]
  },
  {
   "cell_type": "code",
   "execution_count": 47,
   "metadata": {},
   "outputs": [],
   "source": [
    "mod_df = train['raw_text'][BIA_train]"
   ]
  },
  {
   "cell_type": "code",
   "execution_count": 48,
   "metadata": {},
   "outputs": [],
   "source": [
    "drop12 = [33, 42, 204, 205, 272, 298, 301, 302, 306, 307, 308, 310, 314, 329, 336, 381, 387, 389, 481, 535, 594, 599, 614, 615]\n",
    "mod_df = mod_df.reset_index(drop=True)\n",
    "mod_df = mod_df.drop(drop12)"
   ]
  },
  {
   "cell_type": "code",
   "execution_count": 49,
   "metadata": {},
   "outputs": [
    {
     "data": {
      "text/plain": [
       "CountVectorizer(analyzer=u'word', binary=True, decode_error=u'strict',\n",
       "        dtype=<type 'numpy.int64'>, encoding=u'utf-8', input=u'content',\n",
       "        lowercase=False, max_df=1.0, max_features=None, min_df=1,\n",
       "        ngram_range=(1, 1), preprocessor=None, stop_words=None,\n",
       "        strip_accents=None,\n",
       "        token_pattern='VACATED|REMAND|DISMISSED|DENIED|GRANTED',\n",
       "        tokenizer=None, vocabulary=None)"
      ]
     },
     "execution_count": 49,
     "metadata": {},
     "output_type": "execute_result"
    }
   ],
   "source": [
    "y = 'VACATED|REMAND|DISMISSED|DENIED|GRANTED'\n",
    "\n",
    "cvecy = CountVectorizer(lowercase=False, token_pattern=y, binary=True)\n",
    "cvecy.fit(mod_df)"
   ]
  },
  {
   "cell_type": "code",
   "execution_count": 50,
   "metadata": {},
   "outputs": [
    {
     "data": {
      "text/plain": [
       "DENIED       559\n",
       "DISMISSED    398\n",
       "GRANTED       35\n",
       "REMAND        33\n",
       "VACATED      363\n",
       "dtype: int64"
      ]
     },
     "execution_count": 50,
     "metadata": {},
     "output_type": "execute_result"
    }
   ],
   "source": [
    "targets  = pd.DataFrame(cvecy.transform(mod_df).todense(),\n",
    "             columns=cvecy.get_feature_names())\n",
    "\n",
    "targets.sum()"
   ]
  },
  {
   "cell_type": "code",
   "execution_count": 51,
   "metadata": {},
   "outputs": [
    {
     "data": {
      "text/plain": [
       "<matplotlib.axes._subplots.AxesSubplot at 0x7fbe6ca55d10>"
      ]
     },
     "execution_count": 51,
     "metadata": {},
     "output_type": "execute_result"
    },
    {
     "data": {
      "image/png": "[encoded data removed]",
      "text/plain": [
       "<matplotlib.figure.Figure at 0x7fbe6ca55210>"
      ]
     },
     "metadata": {},
     "output_type": "display_data"
    }
   ],
   "source": [
    "targets.sum().sort_values().plot(kind='bar')"
   ]
  },
  {
   "cell_type": "code",
   "execution_count": 52,
   "metadata": {},
   "outputs": [
    {
     "name": "stdout",
     "output_type": "stream",
     "text": [
      "[2, 103, 443, 574] 4\n"
     ]
    }
   ],
   "source": [
    "bad_case = []\n",
    "for x in range(0, len(targets)):\n",
    "    if targets.sum(axis=1)[x] == 0:\n",
    "        bad_case.append(targets.index[x])\n",
    "print bad_case, len(bad_case)"
   ]
  },
  {
   "cell_type": "code",
   "execution_count": 53,
   "metadata": {},
   "outputs": [
    {
     "name": "stdout",
     "output_type": "stream",
     "text": [
      "[] 0\n"
     ]
    }
   ],
   "source": [
    "dup_cases = []\n",
    "for b in bad_case:\n",
    "    try: \n",
    "        good = int(mod_df.iloc[b][1])\n",
    "    except:\n",
    "        dup_cases.append(b)\n",
    "print dup_cases, len(dup_cases)"
   ]
  },
  {
   "cell_type": "code",
   "execution_count": null,
   "metadata": {},
   "outputs": [],
   "source": [
    "drop12 = [33, 42, 204, 205, 272, 298, 301, 302, 306, 307, 308, 310, 314, 329, 336, 381, 387, 389, 481, 535, 594, 599, 614, 615]\n",
    "impute12 = [(2, -1), (103, 3), (443, -1), (574, 3)]"
   ]
  },
  {
   "cell_type": "code",
   "execution_count": 44,
   "metadata": {},
   "outputs": [
    {
     "data": {
      "text/plain": [
       "[u'',\n",
       " u'686 F.3d 66 (2012)',\n",
       " u'Venkat Rao DANDAMUDI, Naveen Parupalli, Sunitha Talluri, Nareen Adusumelli, Jitendra Kumar Patel, Lavanya Akula, Hareen Karra, Holly Elizabeth Benoit, Yecham Kumaraswamy, Grace Chan, Herng Yih Lai, Jitendra Keshavlal Patel, Sumirkumar S. Talati, Sireesh K. Thummalapally, Kaichuan Yeh, Plaintiffs-Appellees,',\n",
       " u'Vishnu Akula, Balaji Duddukuru, Murali Kothuri, Alanna Farrell, Consolidated Plaintiffs-Appellees,',\n",
       " u'Lakshman Rao Paidi, Nitasha Khurana, Young Mee Lee, Xuan Uyen Nghiem, Sirisha Parupalli, Yvonne May Perry, Harinath Talampally, Ravi Kumar Chenna, Getu Nagasa, Phuong Giang, Ngoc Bui, Seong Mi Seo Kim, Krishna Kishore Inapuri, Plaintiffs,',\n",
       " u'v.',\n",
       " u'Merryl H. TISCH, Chancellor of the New York State Board of Regents, David Steiner, Commissioner of Education, Defendants-Appellants, 67*67 ',\n",
       " u'Richard P. Mills, Commissioner of Education, New York State Department of Education, Robert M. Bennett, Chancellor of the New York State Board of Regents, New York State Board of Regents, Defendants.',\n",
       " u'Docket No. 10-4397-cv.',\n",
       " u'United States Court of Appeals, Second Circuit.',\n",
       " u'Argued: January 9, 2012.',\n",
       " u'Decided: July 10, 2012.',\n",
       " u'69*69 Andrew B. Ayers, Assistant Solicitor General (Barbara D. Underwood, Solicitor General, Denise A. Hartman, Assistant Solicitor General, on the brief), for Eric T. Schneiderman, Attorney General of the State of New York, Albany, NY, for Defendants-Appellants.',\n",
       " u'Margaret A. Catillaz (Jeffrey A. Wadsworth, on the brief), Harter Secrest & Emery LLP, Rochester, NY, for Plaintiff-Appellee Alanna Farrell.',\n",
       " u'Krishnan Chittur, Chittur & Associates, P.C., New York, NY, for remaining Plaintiffs-Appellees.',\n",
       " u'Before: WESLEY, HALL, Circuit Judges, UNDERHILL, District Judge.[*]',\n",
       " u'WESLEY, Circuit Judge:',\n",
       " u'This case involves a state regulatory scheme that seeks to prohibit some legally admitted aliens from doing the very thing the federal government indicated they could do when they came to the United States\\u2014work. Plaintiffs-Appellees are a group of nonimmigrant aliens who have been authorized by the federal government to reside and work as pharmacists in the United States. All currently reside in New York and are licensed pharmacists there. Plaintiffs obtained pharmacist\\'s licenses from New York pursuant to a statutory waiver to New York Education Law \\xa7 6805(1)(6)\\'s requirement that only U.S. Citizens or Legal Permanent Residents (\"LPRs\") are eligible to obtain a pharmacist\\'s license in New York. The waiver provision was set to expire in 2009. In response, plaintiffs sued various state officials[1] responsible for enforcing the law in 70*70 the United States District Court for the Southern District of New York.',\n",
       " u\"Plaintiffs allege that \\xa7 6805(1)(6) is unconstitutional because it violates the Equal Protection and Supremacy Clauses of the United States Constitution. In a thorough and well-reasoned opinion, the district court granted plaintiffs' motion for summary judgment and permanently enjoined defendants from enforcing the law. See Adusumelli v. Steiner, 740 F.Supp.2d 582 (S.D.N.Y.2010).\",\n",
       " u\"On appeal, New York asks us to abrogate the Supreme Court's general rule that state statutes that discriminate based on alienage are subject to strict scrutiny review. The state argues that the statute at issue here, which discriminates against nonimmigrant aliens should be reviewed only to determine if there is a rational basis that supports it. In our view, however, a state statute that discriminates against aliens who have been lawfully admitted to reside and work in the United States should be viewed in the same light under the Equal Protection Clause as one which discriminates against aliens who enjoy the right to reside here permanently. Applying strict scrutiny, therefore, and finding, as the state concedes, that there are no compelling reasons for the statute's discrimination based on alienage, we hold the New York statute to be unconstitutional. We affirm the district court's grant of summary judgment for plaintiffs.\",\n",
       " u'I. BACKGROUND',\n",
       " u'Most of the plaintiffs have H-1B temporary worker visas. Under the Immigration and Nationality Act (\"INA\"), H-1B visas may be given to aliens who come \"temporarily to the United States to perform services ... in a specialty occupation.\" 8 U.S.C. \\xa7 1101(a)(15)(H)(i)(b). The remaining plaintiffs have what is known as \"TN\" status. \"TN\" status is a temporary worker status created by federal law pursuant to the North American Free Trade Agreement (\"NAFTA\"). NAFTA permits \"a citizen of Canada or Mexico who seeks temporary entry as a business person to engage in business activities at a professional level\" to enter the United States and work here pursuant to the requirements of the TN status. 8 C.F.R. \\xa7 214.6(a).',\n",
       " u\"These provisions technically grant plaintiffs admission to the United States for a finite period. Because plaintiffs' status grants them the right to reside and work in the United States only temporarily, plaintiffs are part of the group of aliens the immigration law refers to as nonimmigrants. 8 U.S.C. \\xa7 1101(a)(15). And, although plaintiffs had to indicate that they did not intend to stay here permanently to obtain their visas, the truth is that many (if not all) actually harbor a hope (a dual intention) that some day they will acquire the right to stay here permanently. The BIA and the State Department both recognize this doctrine of dual intent, which allows aliens to express an intention to remain in the United States temporarily (to satisfy the requirements of their temporary visas) while also intending to remain permanently, which allows them to apply for an adjustment of status. Matter of Hosseinpour, 15 I. & N. Dec. 191 (BIA 1975); 70 No. 42 Interpreter Releases 1444, 1456-58 (Nov. 1, 1993).\",\n",
       " u'For purposes of both the H1-B and TN visas, the initial period during which the visa-holder can legally remain and work in the United States is three-years. 8 C.F.R. \\xa7\\xa7 214.2(h)(9)(iii)(A)(1) (H1-B visa), 214.6(e) (TN status). Each visa status also permits a three-year extension of the initial period. Id. at \\xa7\\xa7 214.2(h)(15)(ii)(B), 214.6(h). But an alien with an H1-B visa is limited to one such extension, essentially restricting H1-B status to a six-year period.[2] 71*71 Id. at \\xa7 214.2(h)(15)(ii)(B)(1). In practice, however, federal law permits many aliens with TN or H1-B status to maintain their temporary worker authorization for a period greater than six years. All plaintiffs in this case, for example, have been legally authorized to reside and work in the United States for more than six years. And, six plaintiffs have been authorized to reside and work in the United States for more than ten years.',\n",
       " u'Several factors contribute to the difference between the technical limitations on H1-B and TN status and the length of time these aliens remain authorized to reside and work in the United States. Many aliens who receive temporary worker authorization are former students who entered the United States with a student visa and who have made their home in the United States for many years before entering the professional world.[3] Many nonimmigrant aliens are also often eligible to apply for LPR status. This process is typically quite slow, and the federal government therefore regularly issues Employment Authorization Documents (\"EADs\"), which extend the time period during which these aliens are eligible to work in the United States while they await their green cards. 8 C.F.R. \\xa7 274a.12(c)(9).',\n",
       " u'Twenty-two plaintiffs have applied for Permanent Resident status.[4] Sixteen have received EADs because they have exhausted the six-year maximum authorization provided by H1-B status.',\n",
       " u'Based on their visa status, all plaintiffs currently reside in the United States legally and have permission to work here. All are pharmacists who were granted a pharmacist\\'s license (albeit a \"limited\" one) pursuant to a previous version of the New York statute at issue here.[5] Section 6805(1)(6), in its current incarnation, provides that to be eligible for a pharmacist\\'s license in New York, an applicant must be either a U.S. Citizen or a LPR.[6] The statute bars all other aliens, including those 72*72 with work-authorization who legally reside in the United States, from becoming licensed pharmacists.',\n",
       " u'II. DISCUSSION',\n",
       " u'New York argues that neither the Equal Protection Clause nor the Supremacy Clause prevents a state from prohibiting a group of aliens who are legally authorized to reside and work in the United States from working in certain professions. The state relies principally on two decisions from our sister circuits. See League of United Latin Am. Citizens (LULAC) v. Bredesen, 500 F.3d 523, 531-34, 536-37 (6th Cir.2007); LeClerc v. Webb, 419 F.3d 405, 415 (5th Cir.2005), reh\\'g en banc denied, 444 F.3d 428 (2006).[7] The Fifth and Sixth Circuits viewed nonimmigrant aliens as distinct from aliens with LPR status and applied a rational scrutiny test to determine if the state statutes in question ran afoul of the Equal Protection Clause. In both cases, the courts \"decline[d] to extend\" the protections of LPRs to certain nonimmigrants. LULAC, 500 F.3d at 533; LeClerc, 419 F.3d at 419. We disagree; the Supreme Court has repeatedly affirmed the general principle that alienage is a suspect classification and has only ever created two exceptions to that view. We decline to create a third in a case where the statute discriminates against aliens who have been granted the legal right to reside and work in the United States. Under a strict scrutiny analysis, \\xa7 6805(1)(6) of the New York Education Law violates the Equal Protection Clause.',\n",
       " u'The Equal Protection Clause',\n",
       " u'The Fourteenth Amendment provides that states may not \"deny to any person within its jurisdiction the equal protection of the laws.\" U.S. Const. amend. XIV, \\xa7 1. Under the Fourteenth Amendment, a law that \"impermissibly interferes with the exercise of a fundamental right or operates to the peculiar disadvantage of a suspect class\" is reviewed under the strict scrutiny standard. Mass. Bd. of Ret. v. Murgia, 427 U.S. 307, 312, 96 S.Ct. 2562, 49 L.Ed.2d 520 (1976) (emphasis added) (footnote omitted); see Weinstein v. Albright, 261 F.3d 127, 140 (2d Cir.2001).',\n",
       " u'There is no question that the Fourteenth Amendment applies to all aliens. See, e.g., Plyler v. Doe, 457 U.S. 202, 215, 102 S.Ct. 2382, 72 L.Ed.2d 786 (1982). Indeed, the Supreme Court has long held that states cannot discriminate on the basis of alienage. \"Aliens as a class are a prime example of a discrete and insular minority,\" the Court reasoned in Graham v. Richardson, \"[and] the power of a state to apply its laws exclusively to its alien inhabitants as a class is confined within narrow limits.\" 403 U.S. 365, 372, 91 S.Ct. 1848, 29 L.Ed.2d 534 (1971) (internal quotation marks omitted).',\n",
       " u'In Graham, the Court struck down two state statutes that prevented immigrants from receiving public assistance. Id. at 376, 91 S.Ct. 1848. The statutes erected different barriers\\u2014a Pennsylvania law barred non-citizens from a welfare program, while an Arizona law required that aliens reside in the state for fifteen years before they could collect money from the state\\u2014both achieved the same result. Id. at 367-68, 91 S.Ct. 1848. Thus, aliens were denied access to a benefit available to citizens. Graham held this \"two class\" system unconstitutional. Id. at 371, 91 S.Ct. 1848.',\n",
       " u'73*73 Graham is considered the lodestar of the Court\\'s alienage discrimination doctrine, but the opinion invokes a case decided decades before. In Takahashi v. Fish and Game Commission, the Supreme Court struck down a California statute that denied fishing licenses to any \"person ineligible [for] citizenship.\" 334 U.S. 410, 413, 68 S.Ct. 1138, 92 L.Ed. 1478 (1948). The law originally targeted Japanese fishermen, but the state legislature feared that such a clearly discriminatory classification might run afoul of the Equal Protection Clause and amended the statute to prohibit immigrants \"ineligible [for] citizenship\" from obtaining fishing licenses. Id.; see also id. at 422-27, 68 S.Ct. 1138 (Murphy, J., concurring). The provision drew a distinction between groups based solely on the members\\' immigration status without any mention of race or nationality. The Court held that treating groups differently based on the members\\' alienage was akin to discriminating against a group because of their race or color. \"The protection of [the Fourteenth Amendment] has been held to extend to aliens as well as to citizens,\" the Court reasoned, \"[and] all persons lawfully in this country shall abide ... on an equality of legal privileges with all citizens.\" Id. at 419-20, 68 S.Ct. 1138 (emphasis added).',\n",
       " u\"The Graham Court saw Pennsylvania and Arizona's restrictions on welfare as exacting the same toll as California's unconstitutional fishing-license regime; the Court thus followed Takahashi to hold that the welfare statutes were subject to strict scrutiny. Graham, 403 U.S. at 372, 91 S.Ct. 1848.\",\n",
       " u'In the years after Graham, the Court continued to apply strict scrutiny to statutes discriminating on the basis of alienage. It invalidated a New York statute that prohibited immigrants from working in the civil service, Sugarman v. Dougall, 413 U.S. 634, 642-43, 93 S.Ct. 2842, 37 L.Ed.2d 853 (1973), a Connecticut statute that barred immigrants from sitting for the bar, In re Griffiths, 413 U.S. 717, 721-22, 729, 93 S.Ct. 2851, 37 L.Ed.2d 910 (1973), a Puerto Rico law that denied licenses to immigrant engineers, Examining Board of Engineers, Architects and Surveyors v. Flores de Otero, 426 U.S. 572, 601-06, 96 S.Ct. 2264, 49 L.Ed.2d 65 (1976), and a New York law that required immigrants to pledge to become citizens before they could receive financial aid, Nyquist v. Mauclet, 432 U.S. 1, 7, 12, 97 S.Ct. 2120, 53 L.Ed.2d 63 (1977). In each case, the Court began its discussion by reasserting its commitment to the holding in Graham: laws that single out aliens for disparate treatment are presumptively unconstitutional absent a showing that the classification was \"necessary\" to fulfill a constitutionally \"permissible\" and \"substantial\" purpose. In re Griffiths, 413 U.S. at 721-22, 93 S.Ct. 2851.[8]',\n",
       " u'The Court has recognized only two exceptions to Graham\\'s rule. The first exception allows states to exclude aliens from political and governmental functions as long as the exclusion satisfies a rational basis review. In Foley v. Connelie, the Court upheld a statute that prohibited aliens from working as police officers. 435 U.S. 291, 295-96, 98 S.Ct. 1067, 55 L.Ed.2d 287 (1978). For a democracy to function, the Court reasoned, a state must have the power to \"preserve the basic conception of a political community,\" and states can limit certain \"important nonelective executive, 74*74 legislative, and judicial positions [to] officers who participate directly in the formulation, execution, or review of broad public policy.\" Id. at 296, 98 S.Ct. 1067 (internal quotation marks omitted).',\n",
       " u'The second exception crafted by the Court allows states broader latitude to deny opportunities and benefits to undocumented aliens. See, e.g., Plyler, 457 U.S. at 219, 102 S.Ct. 2382; see also DeCanas v. Bica, 424 U.S. 351, 96 S.Ct. 933, 47 L.Ed.2d 43 (1976), superseded by statute on other grounds as stated in Chamber of Comm. v. Whiting, ___ U.S. ___, 131 S.Ct. 1968, 179 L.Ed.2d 1031 (2011). In Plyler, the Court declined to apply strict scrutiny to a statute that prohibited undocumented alien children from attending public school. 457 U.S. at 223, 102 S.Ct. 2382. The Court acknowledged that Graham placed a heavy burden on state statutes targeting lawful aliens, but reasoned that undocumented aliens fell outside of Graham\\'s reach because \"their presence in this country in violation of federal law is not a `constitutional irrelevancy.\\'\" Id. (citations omitted). The Court held that the plaintiffs\\' unlawful status eliminated them from the suspect class of aliens generally; nevertheless, the Court applied a heightened rational basis standard to the Texas law denying free public education to undocumented alien children and found the law unconstitutional.[9] Plyler, 457 U.S. at 230, 102 S.Ct. 2382 (holding that the state had to show that the statute furthered \"some substantial goal of the state\").',\n",
       " u'Thus, statutes that deny opportunities or benefits to aliens are subject to strict scrutiny unless they fall within two narrow exceptions. The first allows states to exclude aliens from certain civic roles that directly affect the political process. The second acknowledges that people who reside in the United States without authorization may be treated differently than those who are here legally.',\n",
       " u'The state acknowledges that neither exception applies here. Without an existing basis for distinguishing Graham\\'s requirement that such statutes are strictly scrutinized, New York proposes a third exception\\u2014the Fourteenth Amendment\\'s strongest protections should apply only to virtual citizens, like LPRs, and not to other lawfully admitted aliens who require a visa to remain in this country. Defendants argue that the Supreme Court\\'s strict scrutiny analysis of classifications based on \"alienage\" is inapplicable to classifications of nonimmigrant aliens and that only rational basis review of the statute is required.',\n",
       " u\"The state reasons that the Supreme Court has never explicitly applied strict scrutiny review to a statute discriminating against nonimmigrant aliens. That is true, but that argument ignores the underlying reasoning of the Court in its prior decisions as well as the fact that the Court has never held that lawfully admitted aliens are outside of Graham's protection. Indeed, the Court has never distinguished between classes of legal resident aliens.[10] The state's argument that suspect class 75*75 protection extends no further than to LPRs simply has no mooring in the High Court's prior ventures into this area.\",\n",
       " u'New York disagrees and urges us to follow the lead of the Fifth and Sixth Circuits, both of which drew a distinction between LPRs and citizens, on the one hand, and other lawfully admitted aliens, on the other. In LeClerc, the Fifth Circuit upheld a Louisiana Supreme Court rule that required applicants for admission to the Louisiana State Bar to be citizens or LPRs. 419 F.3d at 422. The majority noted that \"[l]ike citizens, [permanent] resident aliens may not be deported, are entitled to reside permanently in the United States, may serve ... in the military, ... and pay taxes on the same bases as citizens.\" Id. at 418.',\n",
       " u'In LULAC, the Sixth Circuit upheld a Tennessee law that conditioned issuance of a driver\\'s license on proof of United States citizenship or LPR status. 500 F.3d at 533. The Sixth Circuit, like the Fifth, held that nonimmigrant aliens are not a suspect class because, unlike citizens and LPRs, they \"are admitted to the United States only for the duration of their authorized status, are not permitted to serve in the U.S. military, are subject to strict employment restrictions, incur differential tax treatment, and may be denied federal welfare benefits.\" Id.; see also LeClerc, 419 F.3d at 418-19. The state would have us join these courts and narrow Graham\\'s holding to reach only those aliens who are indistinguishable from citizens. This argument, however, misconstrues both law and fact.',\n",
       " u\"Ultimately, for three reasons, we reject the state's argument that this Court should follow the rationale of the Fifth and Sixth Circuits. First, the Supreme Court's listing in Graham of the similarities between citizens and aliens refuted the state's argument that it did have a compelling reason for its law, but this language does not articulate a test for determining when state discrimination against any one subclass of lawful immigrants is subject to strict scrutiny. Second, nonimmigrant aliens are but one subclass of aliens, and the Supreme Court recognizes aliens generally as a discrete and insular minority without significant political clout. Third, even if this Court were to determine that the appropriate level of scrutiny by which to analyze the discrimination should be based on the nonimmigrant aliens' similarity (or proximity) to citizens, we would still apply strict scrutiny in this case because nonimmigrant aliens are sufficiently similar to citizens that discrimination against them in the context presented here must be strictly scrutinized.\",\n",
       " u'Despite the fact that the Supreme Court has never cabined its precedent in this area to distinguish between discrimination against LPRs and discrimination against other lawfully present aliens and has never distinguished Takahashi, the Fifth and Sixth Circuits justified narrowing Graham by resting their analysis on the closing words of Graham\\'s discussion of the Equal Protection Clause. In that passage, the Court noted: \"Aliens like citizens pay taxes and may be called into the armed forces. Unlike the short-term residents in Shapiro [v. Thompson, 394 U.S. 618, 89 S.Ct. 1322, 22 L.Ed.2d 600 (1969)], aliens may live within a state for many years, work in the state and contribute to the economic growth of the state.\" Graham, 403 U.S. at 376, 91 S.Ct. 1848 (internal quotation marks omitted).[11]',\n",
       " u'Viewing that language from Graham as an analytical tool, however, reveals the danger of separating the words of an opinion 76*76 from the context in which they were employed. Graham drew a comparison between LPRs and citizens to refute the states\\' arguments that there was a compelling interest in the restrictive legislation\\u2014the states had limited funds and the benefits in question should go to citizens to the exclusion of LPRs. Id. The states contended that they had a legitimate interest in preserving welfare funds for their citizens\\u2014individuals who participated in economic activity within the state and thereby generated tax revenue that supported the benefits. The Court was quick to reply that \"a State\\'s desire to preserve limited welfare benefits for its own citizens is inadequate to justify [the state\\'s discriminatory laws].\" Id. at 374, 91 S.Ct. 1848. It noted that legal aliens are in many ways indistinguishable from citizens and then provided a few examples of that fact:',\n",
       " u'[T]he justification of limiting expenses is particularly inappropriate and unreasonable when the discriminated class consists of aliens. Aliens like citizens pay taxes and may be called into the armed forces. Unlike the short-term residents in Shapiro, aliens may live within a state for many years, work in the state and contribute to the economic growth of the state.',\n",
       " u'Id. (internal quotation marks omitted).',\n",
       " u'The Court in essence pointed out that, because LPRs and citizens have much in common, treating them differently does not pass muster under the Fourteenth Amendment. The converse of this rationale, however, does not become a litmus test for determining whether a particular group of aliens is a suspect class. A group of aliens need not be identical or even virtually identical to citizens to be fully protected by the Fourteenth Amendment. Indeed, citizens and aliens may be sufficiently similar merely because they are both lawful residents. Nor do we think that the list of similarities is meant as a litmus test for lower courts to apply to a subclass of lawfully admitted aliens for purposes of determining how similar they are to citizens before applying strict scrutiny\\u2014the greatest level of Fourteenth Amendment protection\\u2014to analyze discrimination against that subclass.',\n",
       " u'Nothing in the Supreme Court\\'s precedent counsels us to \"judicially craft[] a subset of aliens, scaled by how [we] perceive the aliens\\' proximity to citizenship.\" LeClerc v. Webb, 444 F.3d 428, 429 (5th Cir.2006) (Higginbotham, J., dissenting from the denial of reh\\'g en banc).[12] Rather, the Court\\'s precedent supports drawing a distinction among aliens only as between lawfully admitted aliens and those who are 77*77 in the United States illegally.[13] See Plyler, 457 U.S. at 223, 102 S.Ct. 2382 (utilizing a heightened rational basis review for a state law discriminating against undocumented alien children).',\n",
       " u'Any other distinction ignores that the Fourteenth Amendment is written broadly as protecting all persons and that aliens necessarily constitute a \"discrete and insular\" minority because of their \"impotence in the political process, and the long history of invidious discrimination against them.\" LeClerc, 419 F.3d at 428-29 (Stewart, J., dissenting) (citing Plyler, 457 U.S. at 218 n. 14, 102 S.Ct. 2382). Notably, the bedrock of the Supreme Court\\'s decisions in this area is the fact that although lawfully admitted aliens and citizens are not constitutionally distinguishable, aliens constitute a discrete and insular minority because of their limited role in the political process. LeClerc, 419 F.3d at 428-29 (Stewart, J. dissenting) (citing Plyler, 457 U.S. at 218 n. 14, 102 S.Ct. 2382; Erwin Chemerinsky, Constitutional Law 618-19 (1997)); see also Foley, 435 U.S. at 294, 98 S.Ct. 1067. Certainly, nonimmigrant aliens cannot be said to suffer less from these limitations than LPRs and indeed, likely are \"more powerless and vulnerable to state predations\\u2014more discrete and insular.\" See Constitutional Law\\u2014Equal Protection\\u2014Fifth Circuit Holds that Louisiana Can Prevent Nonimmigrant Aliens from Sitting for the Bar, 119 Harv. L.Rev. 669, 674 (2005) (internal quotation marks omitted).',\n",
       " u\"But even if the state's argument\\u2014that Supreme Court precedent allows for a distinction based on a subclass's similarity to citizens\\u2014had some traction, we conclude strict scrutiny still applies. Nonimmigrants do pay taxes, often on the same terms as citizens and LPRs, and certainly on income earned in the United States. See 26 U.S.C. \\xa7 7701(b); see also LeClerc, 419 F.3d at 427 n. 1 (Stewart, J., dissenting). Further, any claimed distinction based on permanency of residence is equally disingenuous. Although it is certainly true that nonimmigrants must indicate an intent not to remain permanently in the United States, this ignores the dual intent doctrine\\u2014nonimmigrant aliens are lawfully permitted to express an intent to remain temporarily (to obtain and maintain their work visas) as well as an intent to remain permanently (when they apply for LPR status). LeClerc, 419 F.3d at 429 (Stewart, J., dissenting). And the final distinction\\u2014limited work permission\\u2014is wholly irrelevant where, as here, the state seeks to prohibit aliens from engaging in the very occupation for which the federal government granted the alien permission to enter the United States.[14]\",\n",
       " u'78*78 Because most of the distinctions the state would have us make between LPRs and nonimmigrants are either inapplicable or without constitutional relevance, we agree with the district court that the state\\'s argument \"boil[s] down to one potentially important difference\\u2014nonimmigrants have not yet obtained permission to reside in the United States permanently\\u2014and a slew of other differences of uncertain relevance.\" Adusumelli, 740 F.Supp.2d at 592.',\n",
       " u'The core of the state\\'s argument (and the analytical pivot of LeClerc and LULAC) is \"transience.\" The state argues that the nonimmigrant\\'s transient immigration status distinguishes nonimmigrant aliens from LPRs and introduces legitimate state concerns that would allow for rational basis review of the statute. This focus on transience is overly formalistic and wholly unpersuasive. The aliens at issue here are \"transient\" in name only. Certainly the status under which they were admitted to the United States was of limited duration. But the reality is quite different. A great number of these professionals remain in the United States for much longer than six years and many ultimately apply for, and obtain, permanent residence.[15] These practicalities are not irrelevant. They demonstrate that there is little or no distinction between LPRs and the lawfully admitted nonimmigrant plaintiffs here. Therefore, even if the Supreme Court\\'s precedent were read to require a determination that the subclass of aliens at issue is similar to LPRs or citizens, strict scrutiny would apply.',\n",
       " u\"Finally, creating a third exception to strict scrutiny analysis for statutes discriminating against lawfully admitted aliens would create odd, some might say absurd, results. If statutes discriminating against lawfully admitted nonimmigrant aliens were reviewed under a rational basis framework that would mean that a class of unlawful aliens would receive greater protection against state discriminatory statutes than those lawfully present. See Plyler, 457 U.S. at 202, 102 S.Ct. 2382. In Plyler the Court applied a heightened rational basis test to invalidate a Texas statute excluding undocumented immigrant children from public schools. Id. at 230, 102 S.Ct. 2382. We see no reason to create an exception to the Supreme Court's precedent that would result in such illogical results that clearly contradict the federal government's determination as to which individuals have a legal right to be here.\",\n",
       " u'The Supreme Court has repeatedly announced a general rule that classifications based on alienage are suspect and subject to strict scrutiny review. As Judge Gilman advocated in his LULAC dissent, we should \"tak[e] the Supreme Court at its word.\" 500 F.3d at 542. Neither the state\\'s reasoning nor that of the Fifth and Sixth Circuit majority opinions\\' persuades us that creating a third exception to the general rule that alienage classifications 79*79 are suspect is warranted here. Therefore, we hold that the subclass of aliens known as nonimmigrants who are lawfully admitted to the United States pursuant to a policy granting those aliens the right to work in this country are part of the suspect class identified by Graham. Any discrimination by the state against this group is subject to strict scrutiny review.',\n",
       " u'The statute here, which prohibits nonimmigrant aliens from obtaining a pharmacist\\'s license in New York, is not narrowly tailored to further a compelling government interest. As noted above, appellants concede that New York has no compelling justification for barring the licensed pharmacist plaintiffs from practicing in the state. Further, we agree with the district court that there is no evidence \"that transience amongst New York pharmacists threatens public health or that nonimmigrant pharmacists, as a class, are in fact considerably more transient than LPR and citizen pharmacists.\" Adusumelli, 740 F.Supp.2d at 598. Citizenship and Legal Permanent Residency carry no guarantee that a citizen or LPR professional will remain in New York (or the United States for that matter), have funds available in the event of malpractice, or have the necessary skill to perform the task at hand.[16]',\n",
       " u'The statute is also far from narrowly tailored. As the Court in Flores de Otero pointed out, there are other ways (i.e., malpractice insurance) to limit the dangers of potentially transient professionals. 426 U.S. at 606, 96 S.Ct. 2264. As such, the statute unconstitutionally discriminates against plaintiffs in violation of their Fourteenth Amendment rights.',\n",
       " u'The Supremacy Clause and Preemption',\n",
       " u'In addition to challenging the New York statute on Fourteenth Amendment grounds, plaintiffs raise Supremacy Clause and preemption concerns. Although, for the reasons stated below, we are constrained to decide this case on Equal Protection grounds, we nonetheless address these arguments. We agree with the district court that \\xa7 6805(1)(6) \"is even more clearly unconstitutional [under the principles of the Supremacy Clause] than under the Equal Protection Clause.\" Adusumelli, 740 F.Supp.2d at 600.',\n",
       " u'\"The federal power to determine immigration policy is well settled. Immigration policy can affect trade, investment, tourism, and diplomatic relations for the entire Nation, as well as the perceptions and expectations of aliens in this country who seek the full protection of its laws.\" Arizona v. United States, 567 U.S. ___, 132 S.Ct. 2492, 2498, 183 L.Ed.2d 351 (2012). Because \"discretionary decisions [about immigration] involve policy choices that bear on this Nation\\'s international relations,\" the Supreme Court in Arizona v. United States recently reaffirmed that the federal power over immigration is extensive and predominant. Id. at 2499-00.',\n",
       " u'When Congress occupies an entire field, \"even complementary state regulation 80*80 is impermissible.\" Id. at 2502. But even if Congress does not occupy an entire field, the Court has confirmed the \"well-settled proposition that a state law is preempted where it `stands as an obstacle to the accomplishment and execution of the full purposes and objectives of Congress.\\'\" Id. at 2505 (quoting Hines v. Davidowitz, 312 U.S. 52, 67, 61 S.Ct. 399, 85 L.Ed. 581 (1941)). Specifically in the lawful alien context, the Court has held that \"state regulation not congressionally sanctioned that discriminates against aliens lawfully admitted to the country is impermissible if it imposes additional burdens not contemplated by Congress.\" DeCanas, 424 U.S. at 358 n. 6, 96 S.Ct. 933 (1976).',\n",
       " u'The state contends that \\xa7 6805(1)(6) does not impose additional burdens not sanctioned by Congress because although the federal immigration law controls the determination of which aliens should be lawfully admitted for the purpose of working in a specialty occupation, it leaves to the states the determination of what qualifications are required to practice that profession. New York cites to the portion of the regulation that provides that \"[i]f an occupation requires a state or local license for an individual to fully perform the duties of the occupation, an alien ... seeking [a temporary visa to work] in that occupation must have that license prior to approval of the petition.\" 8 C.F.R. \\xa7 214.2(h)(4)(v)(A). It argues that this language contemplates, and leaves room for, the state to determine whether an individual is qualified for the profession; according to the state, immigration status can be one such qualification.',\n",
       " u'The state\\'s argument misunderstands the nature of this licensure provision. Federal law recognizes that states have a legitimate interest in ensuring that an individual applicant has the necessary educational and experiential qualifications for the position sought. But that traditional police power cannot morph into a determination that a certain subclass of immigrants is not qualified for licensure merely because of their immigration status. That view makes no sense. As the district court pointed out, it would make \"the federal laws creating H-1B and TN visa status ... advisory\" because the federal law at once \"indicate[s] that nonimmigrants should be admitted to the country to practice speciality occupations, ... [and] allow[s] the states to decide whether nonimmigrants (as a class, not as individuals) should be permitted to practice speciality occupations.\" Adusumelli, 740 F.Supp.2d at 600.',\n",
       " u'New York\\'s law \"`stands as an obstacle to the accomplishment and execution of the full purposes and objectives of Congress.\\'\" Freightliner Corp. v. Myrick, 514 U.S. 280, 287, 115 S.Ct. 1483, 131 L.Ed.2d 385 (1995) (quoting Hines, 312 U.S. at 67, 61 S.Ct. 399). Through the INA, Congress exercised its immigration power to permit non-LPRs and non-citizens to become lawful residents of the United States and to participate in certain occupations so long as they are professionally qualified to engage in the particular speciality occupation they seek to practice. 8 U.S.C. \\xa7 1184(i)(2)(A). By making immigration status a professional qualification, and thereby causing the group of non-citizens and non-LPRs Congress intended to allow to practice specialty occupations to be ineligible to do so, the New York statute has created an obstacle to the accomplishment and execution of the INA.',\n",
       " u'We are also unpersuaded by the state\\'s other arguments: that the statute does not regulate who may be admitted to the country and that Toll\\'s prescription that states may not be prohibited from imposing additional burdens \"when Congress has done 81*81 nothing more than permit a class of aliens to enter the country temporarily\" applies here. Toll, 458 U.S. at 12-13, 102 S.Ct. 2977. The state\\'s reliance on Toll is misplaced. The Court there only questioned whether a state could impose additional burdens if Congress only permitted aliens to enter temporarily. It did not hold that states were definitively allowed to impose such burdens. In this case, Congress has done more than merely allow the nonimmigrants to enter temporarily. It has granted them permission to work in certain occupations. That alone takes this case out of Toll\\'s potential exception. Ultimately, because of the obstacles posed by the state statute to accomplishing the purposes of the INA, there are serious Supremacy Clause and preemption problems at issue. See Arizona, 132 S.Ct. at 2499-2511.',\n",
       " u\"Yet, while we recognize the preemption and Supremacy Clause issues in this case and also the Court's preference that Supremacy Clause issues be decided before Equal Protection Clause claims, see generally Toll, 458 U.S. at 9-10, 102 S.Ct. 2977, we must decide this case on Equal Protection grounds. The plaintiffs with TN status cannot argue that the state law is preempted because the NAFTA Implementation Act allows only the United States to bring actions against state laws inconsistent with NAFTA. See 19 U.S.C. \\xa7 3312(b)(2).\",\n",
       " u\"In summary, we agree substantially with the district court's well-reasoned opinion below, the dissenting opinions filed in the panel decisions in LeClerc and LULAC, and the dissent from denial of rehearing en banc in LeClerc. We find no reason to create a third exception to the rule that alienage is a suspect classification.\",\n",
       " u'As the Supreme Court noted in Takahashi, \"[t]he assertion of an authority to deny to aliens the opportunity of earning a livelihood when lawfully admitted to the state would be tantamount to the assertion of the right to deny them entrance and abode, for in ordinary cases they cannot live where they cannot work.\" Takahashi, 334 U.S. at 416, 68 S.Ct. 1138. New York cannot, in effect, drive from the state nonimmigrants who have federal permission to enter the United States to work. New York Education Law \\xa7 6805(1)(6) is unconstitutional.',\n",
       " u'III. CONCLUSION',\n",
       " u\"The district court's order of September 30, 2010 granting summary judgment to plaintiffs is hereby AFFIRMED.\",\n",
       " u'[*]  Judge Stefan R. Underhill, of the United States District Court for the District of Connecticut, sitting by designation.',\n",
       " u'[1]  Although we recognize that the State of New York is not explicitly named as a party to this case, the arguments made by appellants here are clearly made on behalf of the state and the statute at issue was defended on appeal by the Solicitor General\\'s Office of the State of New York. We think it appropriate, therefore, to refer to the parties bringing the appeal collectively as \"the state\" or \"New York.\"',\n",
       " u'[2]  Although not applicable in the instant case, an H-1B visa holder who is involved in a \"DOD research and development or co-production project\" may maintain his H-1B visa status for a total of 10 years. 8 C.F.R. \\xa7 214.2(h)(15)(ii)(B)(2).',\n",
       " u'[3]  Initially entering the United States on a student visa extends the amount of time a nonimmigrant alien can remain in the United States because the time limitations for H1-B status and TN status are not impacted by time previously spent residing in the United States pursuant to a student visa.',\n",
       " u\"[4]  During the pendency of this appeal, plaintiff-appellee Gutu Nagasa was granted a green card, making the appeal moot as to him. And, in a previous case, we dismissed an appeal raising identical issues with regard to New York's analogous law restricting professional veterinarian licenses to citizens and LPRs because the plaintiff-appellee was granted permanent resident status while the appeal was pending. See Kirk v. N.Y. State Dep't of Educ., 644 F.3d 134, 136 (2d Cir.2011).\",\n",
       " u\"[5]  A previous version of the statute included a three-year waiver of the citizenship/LPR requirement for otherwise qualified pharmacists. It also permitted a one-year extension of that waiver. The waiver provision expired in October 2006. Pursuant to the expiration requirement, plaintiffs' pharmacist's licenses were set to expire in 2009 and were not eligible for renewal. Plaintiffs' licenses were renewed pending the outcome of this litigation.\",\n",
       " u'[6]  Similar provisions of the New York Education Law preclude non-LPR aliens from other professions. See N.Y. Educ. Law \\xa7\\xa7 6524(6) (physicians), 6554(6) (chiropractors), 6604(6) (dentists), 6609(6) (dental hygienists), 6704(6) (veterinarians), 6711(6) (veterinary technicians), 6955(1)(6) (midwives), 7206(1)(6) (engineers), 7206-a(1)(6) (land surveyors), 7324(1)(6) (landscape architects), 7504(1)(6) (certified shorthand reporters), 7804(5) (massage therapists).',\n",
       " u'[7]  The plaintiffs in LeClerc were aliens with J-1 student visas and H1-B worker visas. 419 F.3d at 410-12.',\n",
       " u'[8]  Each of these cases was a facial challenge: Plaintiffs argued that the statutes were unconstitutional on their face because they drew explicit distinctions between citizens and noncitizens, not just because a state had interpreted a statute to deny benefits to a group of aliens.',\n",
       " u\"[9]  In Plyler, the Court explained that undocumented aliens are not a suspect class, but noted that it was reluctant to punish undocumented alien children for their parents' decision to break the law. Id. at 219-20, 102 S.Ct. 2382.\",\n",
       " u'[10]  Notably, it was in his dissent in Toll v. Moreno, 458 U.S. 1, 44-45, 102 S.Ct. 2977, 73 L.Ed.2d 563 (1982) (Rehnquist, J., dissenting), that Justice Rehnquist pointed out such a distinction. There he wrote:',\n",
       " u'In each case in which the Court has tested state alienage classifications ... the question has been the extent to which the States could permissibly distinguish between citizens and permanent resident aliens.... [T]he need for strict scrutiny simply does not apply to state policies that distinguish between permanent resident aliens and nonimmigrants.',\n",
       " u'[11]  We see no connection between practicing law in Louisiana or driving a car in Tennessee and military service, restricted job opportunities, or differences in taxation. Neither did Louisiana or Tennessee as neither state statute restricted the privileges in question to those citizens who had served in the military, worked, or paid taxes. The classifications in question focused on a distinct and identifiable minority even though there was no constitutionally relevant reason for the distinction.',\n",
       " u'[12]  Neither are we persuaded by the state\\'s claim that the statute must be reviewed under a rational basis framework because it only discriminates against a subset of aliens. The Court roundly rejected such an argument in Nyquist, 432 U.S. at 7-9, 97 S.Ct. 2120. There, the Court explained that the mere fact that the legislature distinguished \"only within the heterogenous class of aliens and ... not... between citizens and aliens vel non\" did not remove the statute from strict scrutiny review because the important consideration was that the statute was \"directed at aliens and that only aliens are harmed by it. The fact that the statute is not an absolute bar does not mean that it does not discriminate against the class.\" Id. at 8-9, 97 S.Ct. 2120 (internal quotation marks omitted).',\n",
       " u\"[13]  That aliens are a suspect class not merely because they bear all, or most, of the responsibilities of citizenship is evident from the Court's other pronouncements regarding why aliens are a suspect class. The Supreme Court noted in Flores de Otero, for example, that\",\n",
       " u'The underpinnings of the Court\\'s constitutional decisions defining the circumstances under which state and local governments may favor citizens of this country by denying lawfully admitted aliens equal rights and opportunities have been two. The first, based squarely on the concepts embodied in the Equal Protection Clause of the Fourteenth Amendment and in the Due Process Clause of the Fifth Amendment, recognizes that \"(a)liens as a class are a prime example of a `discrete and insular\\' minority ... for whom ... heightened judicial solicitude is appropriate.\" The second, grounded in the Supremacy Clause, Const., Art. VI, cl. 2, and in the naturalization power, Art. I, \\xa7 8, cl. 4, recognizes the Federal Government\\'s primary responsibility in the field of immigration and naturalization.',\n",
       " u'426 U.S. at 602, 96 S.Ct. 2264 (quoting Graham, 403 U.S. at 372, 91 S.Ct. 1848).',\n",
       " u'[14]  Some of the other distinctions relied on by the Fifth and Sixth Circuits (military service and ineligibility for federal benefits) simply lack legislative relevance. Certainly the federal government, which bears the constitutional responsibility of regulating immigration, has much broader latitude to distinguish among subclasses of aliens. But this latitude does not give states carte blanche to do the same. See Takahashi, 334 U.S. at 420, 68 S.Ct. 1138.',\n",
       " u'[15]  This fact is borne out by the realities of the case before us as well as the previous appeal in Kirk. Here, one of the plaintiffs was granted permanent resident status during the pendency of this appeal. And, in Kirk, we held the appeal moot because the plaintiff was granted permanent resident status during the pendency of the appeal. Kirk, 644 F.3d at 136. As much as the state wants to lump nonimmigrants in the same category as tourists such a classification makes no sense.',\n",
       " u'[16]  In Flores de Otero, defendants contended that the statute preventing alien engineers from engaging in private practice was warranted because of the aliens\\' transience, which results in their tenuous connection to the United States. 426 U.S. at 605-06, 96 S.Ct. 2264. Defendant\\'s claimed that the classification provided engineering clients \"an assurance of financial accountability if a building for which the engineer is responsible collapses within 10 years of construction.\" Id. at 605, 96 S.Ct. 2264. The Court flatly rejected any such rationale, observing that: \"United States citizenship is not a guarantee that a civil engineer will continue to reside in Puerto Rico or even in the United States, and it bears no particular or rational relationship to skill, competence, or financial responsibility.\" Id. at 606, 96 S.Ct. 2264 (citations omitted).',\n",
       " u'Save trees - read court opinions online on Google Scholar.']"
      ]
     },
     "execution_count": 44,
     "metadata": {},
     "output_type": "execute_result"
    }
   ],
   "source": [
    "mod_df.iloc[594].split('\\n')"
   ]
  },
  {
   "cell_type": "code",
   "execution_count": null,
   "metadata": {},
   "outputs": [],
   "source": [
    "#'VACATED|REMAND|DISMISSED|DISMISS|DENIED|DENY|GRANTED|VACATE'\n",
    "#targets['DENY'] = [-1 if x==1 else 0 for x in targets['DENY']]\n",
    "#targets['DISMISS'] = [-1 if x==1 else 0 for x in targets['DISMISS']]\n",
    "targets['DISMISSED'] = [-1 if x==1 else 0 for x in targets['DISMISSED']]\n",
    "#targets['AFFIRMED'] = [-1 if x==1 else 0 for x in targets['AFFIRMED']]\n",
    "targets['DENIED'] = [-1 if x==1 else 0 for x in targets['DENIED']]\n",
    "#targets['REMAND'] = [1 if x==1 else 0 for x in targets['REMAND']]\n",
    "#targets['VACATE'] = [1 if x==1 else 0 for x in targets['VACATE']]\n",
    "#targets['GRANT'] = [1 if x==1 else 0 for x in targets['GRANT']]\n",
    "\n",
    "targets['target_score'] = targets.sum(axis=1)\n",
    "impute12 = [(2, -1), (103, 3), (443, -1), (574, 3)]\n",
    "for i, s in impute12:\n",
    "    targets['target_score'][i] = s"
   ]
  },
  {
   "cell_type": "code",
   "execution_count": null,
   "metadata": {},
   "outputs": [],
   "source": [
    "for i, s in impute12:\n",
    "    targets['target_score'][i] = s"
   ]
  },
  {
   "cell_type": "code",
   "execution_count": null,
   "metadata": {},
   "outputs": [],
   "source": [
    "sns.distplot(targets['target_score'], kde=False)"
   ]
  },
  {
   "cell_type": "code",
   "execution_count": null,
   "metadata": {},
   "outputs": [],
   "source": [
    "targets[targets['target_score'] ==-1]"
   ]
  },
  {
   "cell_type": "code",
   "execution_count": null,
   "metadata": {},
   "outputs": [],
   "source": [
    "mod_df.iloc[578]"
   ]
  },
  {
   "cell_type": "code",
   "execution_count": null,
   "metadata": {},
   "outputs": [],
   "source": [
    "FED_NY_VT_CT_citations = '\\d+\\sF[.]\\s\\d+|\\d+\\sF[.]\\dd\\s\\d+|\\d+\\sU[.]S[.]C[.]\\s[\\xa7]\\s\\d+|\\d+\\sU[.]S[.]\\s\\d+|\\\n",
    "\\d+\\sN[.]Y[.]S[.]\\s\\d+|\\d+\\sN[.]Y[.]S[.]\\dd\\s\\d+|\\d+\\sN[.]Y[.]\\dd\\s\\d+|\\d+\\sN[.]Y[.]\\s\\d+|\\\n",
    "\\d+\\sFed[.]\\sReg[.]\\s\\d+|Pub[.]\\sL[.]\\sNo[.]\\s\\d+[-]\\d+|\\d+\\sF[.]\\sSupp[.]\\s\\dd\\s\\d+|\\d+\\sF[.]Supp[.]\\s\\d+|\\d+\\sF[.]Supp[.]\\dd\\s\\d+|\\\n",
    "\\d+\\sF[.]\\sSupp[.]\\s\\d+|Federal\\sRule\\sof\\sCivil\\sProcedure\\s\\d+|\\d+\\sC[.]F[.]R[.]\\s[\\xa7]\\s\\d+|FED[.]\\sR[.]\\sCIV[.]\\sP[.]\\s\\d+|\\\n",
    "FED[.]\\sR[.]\\sAPP[.]\\sP[.]\\s\\d+|\\d+\\sB[.]R[.]\\s\\d+|\\d+\\sT[.]C[.]\\s\\d+|\\d+\\sM[.]J[.]\\s\\d+|\\d+\\sFed[.]\\sCl[.]\\s\\d+|\\d+\\sCt[.]\\sCl[.]\\s\\d+|\\\n",
    "\\d+\\sA[.]D[.]\\s\\d+|\\d+\\sA[.]D[.]\\dd\\s\\d+|\\d+\\sN[.]E[.]\\dd\\s\\d+|\\d+\\sN[.]E[.]\\s\\d+|\\d+\\sMisc[.]\\s\\d+|\\d+\\sMisc[.]\\dd\\s\\d+|\\\n",
    "U[.]S[.]\\sConst[.]\\samend[.]\\s\\w+[,]\\s[\\xa7]\\s\\d+|Title\\sVII|FRAP\\s\\d+|FRCP\\s\\d+|Fourth\\sAmendment|First\\sAmendment|Fifth\\sAmendment|Sixth\\sAmendment|\\\n",
    "Second\\sAmendment|Eighth\\sAmendment|Fourteenth\\sAmendment|\\Fifthteenth\\sAmendment|Third\\sAmendment|Seventh\\sAmendment|\\d+\\sU[.]S[.]C[.]\\s[\\xa7][\\xa7]\\s\\d+|\\\n",
    "U[.]S[.]S[.]G[.]\\s[\\xa7]\\s\\d+|N[.]Y[.]\\sExec[.]\\sLaw\\s[\\xa7]\\s\\d+|Fed[.]\\sR[.]\\sCiv[.]\\sP[.]\\s\\d+|Fed[.]\\sR[.]\\sApp[.]\\sP[.]\\s\\d+|\\\n",
    "Foreign\\sSovereign\\sImmunity\\sAct\\sof\\s1976|New\\sYork\\sHuman\\sRights\\sLaw|Federal\\sRule\\sof\\sAppellate\\sProcedure\\s\\d+|\\\n",
    "I[.]R[.]C[.]\\[\\xa7]\\d\\d+|\\d+\\sWL\\s\\d+|Title\\sVI|Title\\sV|Title\\sIV|Title\\sIII|Title\\sII|Title\\sI|Title\\sVIII|Title\\sIX|Title\\sX|\\\n",
    "N[.]Y[.]\\sPenal\\sLaw\\s[\\xa7]\\s\\d+|Fed[.]\\sR[.]App[.]\\sP[.]\\s\\d+|Fed[.]\\sR[.]Civ[.]\\sP[.]\\s\\d+|Fed[.]\\sR[.]App[.]P[.]\\s\\d+|Fed[.]\\sR[.]Civ[.]P[.]\\s\\d+|\\\n",
    "Fed[.]\\sR[.]APP[.]P[.]\\s\\d+|Fed[.]\\sR[.]CIV[.]P[.]\\s\\d+|Fed[.]\\R[.]\\sCrim[.]\\sP[.]\\s\\d+|FED[.]\\R[.]\\sCRIM[.]\\sP[.]\\s\\d+|\\\n",
    "\\d+\\sNYCRR\\s\\d+|2d\\sCir[.]\\sR[.]\\s\\d+|\\d+\\sFed[.]\\sAppx[.]\\s\\d+|\\\n",
    "N[.]Y[.]\\sC[.]P[.]L[.]R[.]\\s[\\xa7]\\s\\d+|Fed[.]R[.]Crim[.]P[].\\s\\d+|Fed[.]\\sR[.]\\sCrim[.]\\sP[.]\\s\\d+|Fed[.]\\sR[.]Crim[.]P[.]\\s\\d+|Federal\\sRule\\of\\Criminal\\sProcedure\\s\\d+|\\\n",
    "Administrative\\sCode\\sof\\sthe\\sCity\\sof\\sNew\\sYork\\s[\\xa7]\\s\\d+|NY\\sCorrection\\sLaw\\s[\\xa7]\\s\\d+|\\\n",
    "\\d+\\sN[.]Y[.]\\sLaws\\sCh[.]\\s\\d+|N[.]Y[.]\\sConst[.]\\sArt[.]\\s\\d+[,]\\s[\\xa7]\\s\\d+|2d\\sCir[.]\\sL[.]R[.]\\s\\d+|NYPL\\s[\\xa7]\\s\\d+|New\\sYork\\sPenal\\sCode\\s[\\xa7]\\s\\d+'\n",
    "\n",
    "cvec_cite = CountVectorizer(lowercase=False, token_pattern=FED_NY_VT_CT_citations, binary=True)\n",
    "cvec_cite.fit(mod_df)"
   ]
  },
  {
   "cell_type": "code",
   "execution_count": null,
   "metadata": {},
   "outputs": [],
   "source": [
    "cites  = pd.DataFrame(cvec_cite.transform(mod_df).todense(),\n",
    "             columns=cvec_cite.get_feature_names())\n",
    "\n",
    "cites.sum(axis=1).sort_values().head(20)"
   ]
  },
  {
   "cell_type": "code",
   "execution_count": null,
   "metadata": {},
   "outputs": [],
   "source": [
    "cites.sum().sort_values().tail(30).plot(kind='bar')"
   ]
  },
  {
   "cell_type": "code",
   "execution_count": null,
   "metadata": {},
   "outputs": [],
   "source": [
    "cites.sum().sort_values().tail(35)"
   ]
  },
  {
   "cell_type": "code",
   "execution_count": null,
   "metadata": {},
   "outputs": [],
   "source": [
    "cites.sum(axis=1).plot(kind='hist', bins=40)"
   ]
  },
  {
   "cell_type": "code",
   "execution_count": null,
   "metadata": {},
   "outputs": [],
   "source": []
  },
  {
   "cell_type": "code",
   "execution_count": null,
   "metadata": {},
   "outputs": [],
   "source": []
  },
  {
   "cell_type": "code",
   "execution_count": null,
   "metadata": {},
   "outputs": [],
   "source": [
    "in_path13 = './data/2013/2ndcir2013_scraped1974.csv'\n",
    "drop13 = [1, 2, 41, 56, 66, 82, 83, 101, 102, 103, 105, 119, 174, 189, 192, 199, 207, 237, 249, 255, 261, 297]\n",
    "impute13 = [(275, -1), (339, -2),]\n",
    "\n",
    "test = pd.read_csv(in_path13, encoding='utf-8')\n",
    "\n",
    "bia = 'Board\\sof\\sImmigration\\sAppeals|\"BIA\"|B[.]I[.]A[.]|BIA'\n",
    "BIA_test = [True if len(re.findall(bia, x)) > 0 else False for x in test['raw_text']]\n",
    "mod_test = test['raw_text'][BIA_test]\n",
    "\n",
    "mod_test = mod_test.reset_index(drop=True)\n",
    "mod_test = mod_test.drop(drop13)\n",
    "\n",
    "targets_test  = pd.DataFrame(cvecy.transform(mod_test).todense(),\n",
    "                             columns=cvecy.get_feature_names())\n",
    "\n",
    "print targets_test.sum()\n",
    "\n",
    "bad_case_test = []\n",
    "for x in range(0, len(targets_test)):\n",
    "    if targets_test.sum(axis=1)[x] == 0:\n",
    "        bad_case_test.append(targets_test.index[x])\n",
    "print bad_case_test, len(bad_case_test)\n",
    "\n",
    "dup_cases_test = []\n",
    "for b in bad_case_test:\n",
    "    try: \n",
    "        good = int(mod_test.iloc[b][1])\n",
    "    except:\n",
    "        dup_cases_test.append(b)\n",
    "print dup_cases_test, len(dup_cases_test)\n",
    "\n",
    "targets_test['DISMISSED'] = [-1 if x==1 else 0 for x in targets_test['DISMISSED']]\n",
    "targets_test['DENIED'] = [-1 if x==1 else 0 for x in targets_test['DENIED']]\n",
    "\n",
    "targets_test['target_score'] = targets_test.sum(axis=1)\n",
    "for i, s in impute13:\n",
    "    targets_test['target_score'][i] = s\n",
    "\n",
    "sns.distplot(targets_test['target_score'], kde=False)"
   ]
  },
  {
   "cell_type": "code",
   "execution_count": null,
   "metadata": {},
   "outputs": [],
   "source": [
    "mod_test.iloc[296].split('\\n')"
   ]
  },
  {
   "cell_type": "code",
   "execution_count": null,
   "metadata": {},
   "outputs": [],
   "source": [
    "drop13 = [1, 2, 79, 97, 98, 99, 101, 191, 284, 41, 56, 66, 82, 119, 174, 189, 192, 207, 237, 249, 255, 261]\n",
    "impute13 = [(283, -1), (348, -2),]"
   ]
  },
  {
   "cell_type": "code",
   "execution_count": null,
   "metadata": {},
   "outputs": [],
   "source": []
  },
  {
   "cell_type": "code",
   "execution_count": null,
   "metadata": {},
   "outputs": [],
   "source": []
  },
  {
   "cell_type": "code",
   "execution_count": null,
   "metadata": {},
   "outputs": [],
   "source": []
  },
  {
   "cell_type": "code",
   "execution_count": null,
   "metadata": {},
   "outputs": [],
   "source": []
  },
  {
   "cell_type": "code",
   "execution_count": null,
   "metadata": {},
   "outputs": [],
   "source": []
  },
  {
   "cell_type": "code",
   "execution_count": null,
   "metadata": {},
   "outputs": [],
   "source": []
  },
  {
   "cell_type": "code",
   "execution_count": null,
   "metadata": {},
   "outputs": [],
   "source": []
  },
  {
   "cell_type": "code",
   "execution_count": null,
   "metadata": {},
   "outputs": [],
   "source": [
    "in_path = './data/test/2016/2016X1_droped.csv'\n",
    "df = pd.read_csv(in_path, encoding='utf-8')"
   ]
  },
  {
   "cell_type": "code",
   "execution_count": null,
   "metadata": {},
   "outputs": [],
   "source": [
    "df['text_len'] = [len(t) for t in df['raw_text']]"
   ]
  },
  {
   "cell_type": "code",
   "execution_count": null,
   "metadata": {},
   "outputs": [],
   "source": [
    "df.sort_values('text_len').head(5)"
   ]
  },
  {
   "cell_type": "code",
   "execution_count": null,
   "metadata": {},
   "outputs": [],
   "source": [
    "df.shape"
   ]
  },
  {
   "cell_type": "code",
   "execution_count": null,
   "metadata": {},
   "outputs": [],
   "source": [
    "df.raw_text.iloc[958].split('\\n')"
   ]
  },
  {
   "cell_type": "code",
   "execution_count": null,
   "metadata": {},
   "outputs": [],
   "source": [
    "# Cases to drop, duplicates of published cases, any unusually short opinions...\n",
    "to_drop = [46]\n",
    "#df_drop = dup_cases\n",
    "#df_drop.extend(to_drop)\n",
    "#print len(df_drop)\n",
    "#print len(df)-len(df_drop)"
   ]
  },
  {
   "cell_type": "code",
   "execution_count": null,
   "metadata": {},
   "outputs": [],
   "source": [
    "print dup_cases"
   ]
  },
  {
   "cell_type": "code",
   "execution_count": null,
   "metadata": {},
   "outputs": [],
   "source": [
    "# WARNING: ONLY RUN ONCE!!\n",
    "df.drop(index=to_drop, inplace=True)"
   ]
  },
  {
   "cell_type": "code",
   "execution_count": null,
   "metadata": {},
   "outputs": [],
   "source": [
    "len(df)"
   ]
  },
  {
   "cell_type": "code",
   "execution_count": null,
   "metadata": {},
   "outputs": [],
   "source": [
    "train = './data/Train/2018X1_droped.csv'\n",
    "df.to_csv(train, encoding='utf-8', index=False)"
   ]
  },
  {
   "cell_type": "code",
   "execution_count": null,
   "metadata": {},
   "outputs": [],
   "source": [
    "FED_NY_VT_CT_citations = '\\d+\\sF[.]\\s\\d+|\\\n",
    "\\d+\\sF[.]\\dd\\s\\d+|\\\n",
    "\\d+\\sU[.]S[.]C[.]\\s[\\xa7]\\s\\d+|\\\n",
    "\\d+\\sU[.]S[.]\\s\\d+|\\\n",
    "\\d+\\sN[.]Y[.]S[.]\\s\\d+|\\\n",
    "\\d+\\sN[.]Y[.]S[.]\\dd\\s\\d+|\\\n",
    "\\d+\\sN[.]Y[.]\\dd\\s\\d+|\\\n",
    "\\d+\\sN[.]Y[.]\\s\\d+|\\\n",
    "N[.]Y[.]\\sU[.]C[.]C[.]\\sLaw\\s[\\xa7]\\s\\d+[-]\\d+|\\\n",
    "\\d+\\sFed[.]\\sReg[.]\\s\\d+|\\\n",
    "Pub[.]\\sL[.]\\sNo[.]\\s\\d+[-]\\d+|\\\n",
    "\\d+\\sF[.]\\sSupp[.]\\s\\dd\\s\\d+|\\\n",
    "\\d+\\sF[.]Supp[.]\\s\\d+|\\\n",
    "\\d+\\sF[.]Supp[.]\\dd\\s\\d+|\\\n",
    "\\d+\\sF[.]\\sSupp[.]\\s\\d+|\\\n",
    "Federal\\sRule\\sof\\sCivil\\sProcedure\\s\\d+|\\\n",
    "\\d+\\sC[.]F[.]R[.]\\s[\\xa7]\\s\\d+|\\\n",
    "FED[.]\\sR[.]\\sCIV[.]\\sP[.]\\s\\d+|\\\n",
    "FED[.]\\sR[.]\\sAPP[.]\\sP[.]\\s\\d+|\\\n",
    "\\d+\\sB[.]R[.]\\s\\d+|\\\n",
    "\\d+\\sT[.]C[.]\\s\\d+|\\\n",
    "\\d+\\sM[.]J[.]\\s\\d+|\\\n",
    "\\d+\\sFed[.]\\sCl[.]\\s\\d+|\\\n",
    "\\d+\\sCt[.]\\sCl[.]\\s\\d+|\\\n",
    "\\d+\\sA[.]D[.]\\s\\d+|\\\n",
    "\\d+\\sA[.]D[.]\\dd\\s\\d+|\\\n",
    "\\d+\\sN[.]E[.]\\dd\\s\\d+|\\\n",
    "\\d+\\sN[.]E[.]\\s\\d+|\\\n",
    "\\d+\\sMisc[.]\\s\\d+|\\\n",
    "\\d+\\sMisc[.]\\dd\\s\\d+|\\\n",
    "U[.]S[.]\\sConst[.]\\samend[.]\\s\\w+[,]\\s[\\xa7]\\s\\d+|\\\n",
    "Title\\sVII|FRAP\\s\\d+|FRCP\\s\\d+|Fourth\\sAmendment|First\\sAmendment|Fifth\\sAmendment|Sixth\\sAmendment|\\\n",
    "Second\\sAmendment|Eighth\\sAmendment|Fourteenth\\sAmendment|\\Fifthteenth\\sAmendment|Third\\sAmendment|Seventh\\sAmendment|\\\n",
    "\\d+\\sU[.]S[.]C[.]\\s[\\xa7][\\xa7]\\s\\d+|\\\n",
    "U[.]S[.]S[.]G[.]\\s[\\xa7]\\s\\d+|\\\n",
    "N[.]Y[.]\\sExec[.]\\sLaw\\s[\\xa7]\\s\\d+|\\\n",
    "Mass[.]\\Gen[.]\\sLaws\\sch[.]\\s\\d+|\\\n",
    "Fed[.]\\sR[.]\\sCiv[.]\\sP[.]\\s\\d+|\\\n",
    "Fed[.]\\sR[.]\\sApp[.]\\sP[.]\\s\\d+|\\\n",
    "\\d+\\sN[.]Y[.]\\sJur[.]\\s2d[,]\\sContracts\\s[\\xa7]|\\\n",
    "Foreign\\sSovereign\\sImmunity\\sAct\\sof\\s1976|\\\n",
    "New\\sYork\\sHuman\\sRights\\sLaw|\\\n",
    "Federal\\sRule\\sof\\sAppellate\\sProcedure\\s\\d+|\\\n",
    "I[.]R[.]C[.]\\[\\xa7]\\d\\d+|\\\n",
    "\\d+\\sWL\\s\\d+|Title\\sVI|Title\\sV|Title\\sIV|Title\\sIII|Title\\sII|Title\\sI|Title\\sVIII|Title\\sIX|Title\\sX|\\\n",
    "N[.]Y[.]\\sPenal\\sLaw\\s[\\xa7]\\s\\d+|\\\n",
    "Fed[.]\\sR[.]App[.]\\sP[.]\\s\\d+|Fed[.]\\sR[.]Civ[.]\\sP[.]\\s\\d+|Fed[.]\\sR[.]App[.]P[.]\\s\\d+|Fed[.]\\sR[.]Civ[.]P[.]\\s\\d+|\\\n",
    "Fed[.]\\sR[.]APP[.]P[.]\\s\\d+|Fed[.]\\sR[.]CIV[.]P[.]\\s\\d+|\\\n",
    "\\d+\\sConn[.]\\s\\d+|\\d+\\sConn[.]\\sApp[.]\\s\\d+|\\d+\\sConn[.]App[.]\\s\\d+|\\d+\\sConn[.]\\sSupp[.]\\s\\d+|\\d+\\sConn[.]Supp[.]\\s\\d+|Conn[.]\\sGen[.]\\sStat[.]\\s[\\xa7]\\s\\d+[-]\\d+|\\\n",
    "Conn[.]\\sRegs[.]\\s\\[\\xa7]\\s\\d+[-]\\d+|\\d+\\sVT\\s\\d+|\\d+\\sVt[.]\\s\\d+|Fed[.]\\R[.]\\sCrim[.]\\sP[.]\\s\\d+|FED[.]\\R[.]\\sCRIM[.]\\sP[.]\\s\\d+|\\\n",
    "\\d+\\sNYCRR\\s\\d+|\\d+\\sCode\\sof\\sVt[.]\\sRules\\s\\d+|Connecticut\\sGeneral\\sStatute\\s[\\xa7]\\s\\d+|Conn[.]\\sGen[.]Stat[.]\\s[\\xa7]\\s\\d+|\\\n",
    "Conn[.]\\sR[.]App[.]\\sP[.]\\s[\\xa7]\\s\\d+|N[.]Y[.]\\sComp[.]Codes\\sR[.]\\s[&]\\sRegs[.]\\sTit[.]\\s\\d+[,]\\s[\\xa7]\\s\\d+|\\\n",
    "2d\\sCir[.]\\sR[.]\\s\\d+|\\d+\\sFed[.]\\sAppx[.]\\s\\d+|New\\sYork\\sInsurance\\sLaw\\s[\\xa7]\\s\\d+|Code\\sof\\sConduct\\sfor\\sUnited\\sStates\\sJudges[,]\\sCanon\\s\\d+|\\\n",
    "N[.]Y[.]\\sC[.]P[.]L[.]R[.]\\s[\\xa7]\\s\\d+|Fed[.]R[.]Crim[.]P[].\\s\\d+|Fed[.]\\sR[.]\\sCrim[.]\\sP[.]\\s\\d+|Fed[.]\\sR[.]Crim[.]P[.]\\s\\d+|Federal\\sRule\\of\\Criminal\\sProcedure\\s\\d+|\\\n",
    "N[.]Y[.]\\sElec[.]\\sLaw\\s[\\xa7][\\xa7]\\s\\d+|N[.]Y[.]\\sElec[.]\\sLaw\\s[\\xa7]\\s\\d+|Administrative\\sCode\\sof\\sthe\\sCity\\sof\\sNew\\sYork\\s[\\xa7]\\s\\d+|NY\\sCorrection\\sLaw\\s[\\xa7]\\s\\d+|\\\n",
    "\\d+\\sN[.]Y[.]\\sLaws\\sCh[.]\\s\\d+|N[.]Y[.]\\sConst[.]\\sArt[.]\\s\\d+[,]\\s[\\xa7]\\s\\d+|2d\\sCir[.]\\sL[.]R[.]\\s\\d+|NYPL\\s[\\xa7]\\s\\d+|New\\sYork\\sPenal\\sCode\\s[\\xa7]\\s\\d+'\n",
    "'ERISA|RICO|FINRA|SORNA|FLSA|IRCA'\n",
    "\n",
    "judge_panel = 'Present:.+Judge|Before:.+Judge|PRESENT:.+Judge|BEFORE:.+Judge|in\\sbanc'\n",
    "judges2 = 'katzmann|leval|calabresi|cabranes|straub|raggi|mclaughlin|chin|lohier|droney|carney|lynch|livingston|\\\n",
    "hall|wesley|parker|sack|pooler|walker|jacobs|winter|newman|kearse|miner|in\\sbanc'"
   ]
  },
  {
   "cell_type": "code",
   "execution_count": null,
   "metadata": {},
   "outputs": [],
   "source": [
    "df['judges_string'] = [re.findall(judge_panel, x)[0] if re.findall(judge_panel, x) != [] else '' for x in df['raw_text']]\n",
    "# check that every case has at least one judge...\n",
    "a = 0\n",
    "for x in df['judges_string']:\n",
    "    if x == []:\n",
    "        a = a + 1\n",
    "print a"
   ]
  },
  {
   "cell_type": "code",
   "execution_count": null,
   "metadata": {},
   "outputs": [],
   "source": [
    "judgecv = CountVectorizer(token_pattern=judges2)\n",
    "judgecv.fit(df['judges_string'])"
   ]
  },
  {
   "cell_type": "code",
   "execution_count": null,
   "metadata": {},
   "outputs": [],
   "source": [
    "with open('./assets/judgecv.pkl', 'r') as pickleinjudge:\n",
    "    judgecv = pickle.load(pickleinjudge)"
   ]
  },
  {
   "cell_type": "code",
   "execution_count": null,
   "metadata": {},
   "outputs": [],
   "source": [
    "judge_df  = pd.DataFrame(judgecv.transform(df['judges_string']).todense(),\n",
    "             columns=judgecv.get_feature_names())\n",
    "\n",
    "judge_df.sum().sort_values()"
   ]
  },
  {
   "cell_type": "code",
   "execution_count": null,
   "metadata": {},
   "outputs": [],
   "source": [
    "judge_df.sum().plot(kind='bar')"
   ]
  },
  {
   "cell_type": "code",
   "execution_count": null,
   "metadata": {},
   "outputs": [],
   "source": [
    "out_judge = './data/test/2016/2016_judges.csv'\n",
    "judge_df.to_csv(out_judge, index=False)"
   ]
  },
  {
   "cell_type": "code",
   "execution_count": null,
   "metadata": {},
   "outputs": [],
   "source": [
    "with open('./assets/judgecv.pkl', 'w') as picklejudge:\n",
    "    pickle.dump(judgecv, picklejudge)"
   ]
  },
  {
   "cell_type": "code",
   "execution_count": null,
   "metadata": {
    "scrolled": true
   },
   "outputs": [],
   "source": [
    "cvec_cite = CountVectorizer(lowercase=False, token_pattern=FED_NY_VT_CT_citations, binary=True)\n",
    "cvec_cite.fit(df['raw_text'])"
   ]
  },
  {
   "cell_type": "code",
   "execution_count": null,
   "metadata": {},
   "outputs": [],
   "source": [
    "with open('./assets/cvec_cite.pkl', 'r') as pickleincite:\n",
    "    cvec_cite = pickle.load(pickleincite)"
   ]
  },
  {
   "cell_type": "code",
   "execution_count": null,
   "metadata": {},
   "outputs": [],
   "source": [
    "cites  = pd.DataFrame(cvec_cite.transform(df['raw_text']).todense(),\n",
    "             columns=cvec_cite.get_feature_names())\n",
    "\n",
    "cites.sum(axis=1).sort_values().head(20)"
   ]
  },
  {
   "cell_type": "code",
   "execution_count": null,
   "metadata": {},
   "outputs": [],
   "source": [
    "cites.sum().sort_values().tail(30).plot(kind='bar')"
   ]
  },
  {
   "cell_type": "code",
   "execution_count": null,
   "metadata": {},
   "outputs": [],
   "source": [
    "cites.sum().sort_values().tail(35)"
   ]
  },
  {
   "cell_type": "code",
   "execution_count": null,
   "metadata": {},
   "outputs": [],
   "source": [
    "cites.shape"
   ]
  },
  {
   "cell_type": "code",
   "execution_count": null,
   "metadata": {},
   "outputs": [],
   "source": [
    "cites.sum(axis=1).plot(kind='hist', bins=75)"
   ]
  },
  {
   "cell_type": "code",
   "execution_count": null,
   "metadata": {},
   "outputs": [],
   "source": [
    "# What distrobution is this? looks slightly off normal...\n",
    "sns.distplot(cites.sum(axis=1), bins=150)"
   ]
  },
  {
   "cell_type": "code",
   "execution_count": null,
   "metadata": {},
   "outputs": [],
   "source": [
    "with open('./assets/cvec_cite.pkl', 'w') as picklecite:\n",
    "    pickle.dump(cvec_cite, picklecite)"
   ]
  },
  {
   "cell_type": "code",
   "execution_count": null,
   "metadata": {},
   "outputs": [],
   "source": [
    "out_cite = './data/test/2016/2016_cites.csv'\n",
    "cites.to_csv(out_cite, encoding='utf-8', index=False)"
   ]
  },
  {
   "cell_type": "code",
   "execution_count": null,
   "metadata": {},
   "outputs": [],
   "source": [
    "y = 'AFFIRM|REVERSE|VACATE|REMAND|DISMISS|DENIED|DENY|GRANT|ENFORCE|PUBLICLY\\sREPRIMAND|CERTIFY|SANCTIONED|CERTIFICATE'\n",
    "\n",
    "cvecy = CountVectorizer(lowercase=False, token_pattern=y, binary=True)\n",
    "cvecy.fit(df['raw_text'])"
   ]
  },
  {
   "cell_type": "code",
   "execution_count": null,
   "metadata": {},
   "outputs": [],
   "source": [
    "with open('./assets/cvec_target.pkl', 'r') as pickleiny:\n",
    "    cvecy = pickle.load(pickleiny)"
   ]
  },
  {
   "cell_type": "code",
   "execution_count": null,
   "metadata": {},
   "outputs": [],
   "source": [
    "targets  = pd.DataFrame(cvecy.transform(df['raw_text']).todense(),\n",
    "             columns=cvecy.get_feature_names())\n",
    "\n",
    "targets.sum()"
   ]
  },
  {
   "cell_type": "code",
   "execution_count": null,
   "metadata": {},
   "outputs": [],
   "source": [
    "targets.sum().sort_values().plot(kind='bar')"
   ]
  },
  {
   "cell_type": "code",
   "execution_count": null,
   "metadata": {},
   "outputs": [],
   "source": [
    "# This is to see how many cases have no Targets!! this number should be as small as possible but not 0. 0 means nothing\n",
    "# happened and in some cases, nothing happens...\n",
    "bad_case = []\n",
    "for x in range(0, len(targets)):\n",
    "    if targets.sum(axis=1)[x] == 0:\n",
    "        bad_case.append(targets.index[x])\n",
    "print bad_case, len(bad_case)"
   ]
  },
  {
   "cell_type": "code",
   "execution_count": null,
   "metadata": {},
   "outputs": [],
   "source": [
    "# Brute Force\n",
    "impute_scores = [(90, -2), (102, -2), (104, 2), (115, 2), (129, 3)]"
   ]
  },
  {
   "cell_type": "code",
   "execution_count": null,
   "metadata": {},
   "outputs": [],
   "source": [
    "len(impute_scores)"
   ]
  },
  {
   "cell_type": "code",
   "execution_count": null,
   "metadata": {},
   "outputs": [],
   "source": [
    "df.raw_text.iloc[129].split('\\n')"
   ]
  },
  {
   "cell_type": "code",
   "execution_count": null,
   "metadata": {},
   "outputs": [],
   "source": [
    "dup_cases = []\n",
    "for x in bad_case:\n",
    "    try: \n",
    "        int(df['raw_text'].iloc[x][1])\n",
    "    except:\n",
    "        dup_cases.append(x)\n",
    "print dup_cases, len(dup_cases)"
   ]
  },
  {
   "cell_type": "code",
   "execution_count": null,
   "metadata": {},
   "outputs": [],
   "source": [
    "# Affirm -2 Denied -1 Dismis -1 Publicly Repremand -2| Remand 0 Reverse +2 Vacate +2 Grant +2 Enforce +2 Certify 0 Sanctioned -3\n",
    "targets['AFFIRM'] = [-2 if x==1 else 0 for x in targets['AFFIRM']]\n",
    "targets['DENIED'] = [-1 if x==1 else 0 for x in targets['DENIED']]\n",
    "targets['DENY'] = [-1 if x==1 else 0 for x in targets['DENY']]\n",
    "targets['DISMISS'] = [-1 if x==1 else 0 for x in targets['DISMISS']]\n",
    "#targets['PUBLICLY REPRIMAND'] = [-2 if x==1 else 0 for x in targets['PUBLICLY REPRIMAND']]\n",
    "# Much Debate about this next one\n",
    "targets['REMAND'] = [1 if x==1 else 0 for x in targets['REMAND']]\n",
    "targets['REVERSE'] = [2 if x==1 else 0 for x in targets['REVERSE']]\n",
    "targets['VACATE'] = [1 if x==1 else 0 for x in targets['VACATE']]\n",
    "targets['GRANT'] = [2 if x==1 else 0 for x in targets['GRANT']]\n",
    "targets['ENFORCE'] = [2 if x==1 else 0 for x in targets['ENFORCE']]\n",
    "#targets['CERTIFY'] = [0 if x==1 else 0 for x in targets['CERTIFY']]\n",
    "#targets['CERTIFICATE'] = [0 if x==1 else 0 for x in targets['CERTIFICATE']]\n",
    "#targets['SANCTIONED'] = [-3 if x==1 else 0 for x in targets['SANCTIONED']]\n",
    "\n",
    "targets['target_score'] = targets.sum(axis=1)"
   ]
  },
  {
   "cell_type": "code",
   "execution_count": null,
   "metadata": {},
   "outputs": [],
   "source": [
    "for t in impute_scores:\n",
    "    targets['target_score'].iloc[t[0]] = t[1]"
   ]
  },
  {
   "cell_type": "code",
   "execution_count": null,
   "metadata": {},
   "outputs": [],
   "source": [
    "targets['target_score'].value_counts()"
   ]
  },
  {
   "cell_type": "code",
   "execution_count": null,
   "metadata": {},
   "outputs": [],
   "source": [
    "targets[targets['target_score'] == -4]"
   ]
  },
  {
   "cell_type": "code",
   "execution_count": null,
   "metadata": {},
   "outputs": [],
   "source": [
    "sns.distplot(targets['target_score'], kde=False)"
   ]
  },
  {
   "cell_type": "code",
   "execution_count": null,
   "metadata": {},
   "outputs": [],
   "source": [
    "with open('./assets/cvec_target.pkl', 'w') as pickley:\n",
    "    pickle.dump(cvecy, pickley)"
   ]
  },
  {
   "cell_type": "code",
   "execution_count": null,
   "metadata": {},
   "outputs": [],
   "source": [
    "targets['target_score'].to_csv('./data/2018/2017X1_targetscore.csv', index=False, header='target_score')"
   ]
  },
  {
   "cell_type": "code",
   "execution_count": null,
   "metadata": {},
   "outputs": [],
   "source": []
  },
  {
   "cell_type": "code",
   "execution_count": null,
   "metadata": {},
   "outputs": [],
   "source": [
    "TRAIN = pd.read_csv('./data/Train/2012-14TRAIN.csv', encoding='utf-8')\n",
    "train2015 = pd.read_csv('./data/Train/2015X1_droped.csv', encoding='utf-8')"
   ]
  },
  {
   "cell_type": "code",
   "execution_count": null,
   "metadata": {},
   "outputs": [],
   "source": [
    "len(TRAIN) +len(train2015)"
   ]
  },
  {
   "cell_type": "code",
   "execution_count": null,
   "metadata": {},
   "outputs": [],
   "source": [
    "TRAIN = pd.concat([TRAIN, train2015])\n",
    "len(TRAIN)"
   ]
  },
  {
   "cell_type": "code",
   "execution_count": null,
   "metadata": {},
   "outputs": [],
   "source": [
    "TRAIN.to_csv('./data/Train/2012-15TRAIN.csv', index=False, encoding='utf-8')"
   ]
  },
  {
   "cell_type": "code",
   "execution_count": null,
   "metadata": {},
   "outputs": [],
   "source": [
    "y_train = pd.read_csv('./data/Train/2012-16_targetscore.csv')\n",
    "y2014 = pd.read_csv('./data/2017/2017X1_targetscore.csv', encoding='utf-8')"
   ]
  },
  {
   "cell_type": "code",
   "execution_count": null,
   "metadata": {},
   "outputs": [],
   "source": [
    "len(y_train)+len(y2014)"
   ]
  },
  {
   "cell_type": "code",
   "execution_count": null,
   "metadata": {},
   "outputs": [],
   "source": [
    "y = pd.concat([y_train, y2014])\n",
    "len(y)"
   ]
  },
  {
   "cell_type": "code",
   "execution_count": null,
   "metadata": {},
   "outputs": [],
   "source": [
    "y.to_csv('./data/Train/2012-17_targetscore.csv', index=False, encoding='utf-8')"
   ]
  },
  {
   "cell_type": "code",
   "execution_count": null,
   "metadata": {},
   "outputs": [],
   "source": [
    "pd.read_csv('./data/Train/2012-14_targetscore.csv')"
   ]
  },
  {
   "cell_type": "code",
   "execution_count": null,
   "metadata": {},
   "outputs": [],
   "source": [
    "df = pd.DataFrame([[2, 3, 4], [5, 6, 7], [8, 9, 10]])"
   ]
  },
  {
   "cell_type": "code",
   "execution_count": null,
   "metadata": {},
   "outputs": [],
   "source": [
    "df"
   ]
  },
  {
   "cell_type": "code",
   "execution_count": null,
   "metadata": {},
   "outputs": [],
   "source": [
    "df[1].iloc[1] = 9"
   ]
  },
  {
   "cell_type": "code",
   "execution_count": null,
   "metadata": {},
   "outputs": [],
   "source": [
    "df"
   ]
  },
  {
   "cell_type": "code",
   "execution_count": null,
   "metadata": {},
   "outputs": [],
   "source": [
    "to_drop_2012_= [207, 229, 259, 327, 333, 452, 459, 480, 491, 549, 579, 590, 620, 626, 641, 644, 667, 673, 710, 785, 789,\n",
    "                795, 902, 940, 954, 1010, 1084, 1092, 1093, 1097, 1123, 1229, 1271, 1297, 1316, 1327, 1330, 1337, 1435,\n",
    "                1473, 1608, 1625, 1665, 1676, 1758, 1759, 1771, 1787, 1788, 1807, 1826, 1844, 1866, 1877, 1883, 1907,\n",
    "                1923, 1960, 1981, 1984, 1994, 1995, 2002, 2016, 2031, 2090, 523, 2088]\n",
    "impute_scores_2012_ = [(12, 0), (18, -2), (21, -2), (23, -2), (30, 0), (31, -2), (35, 2), (36, 3), (325, 2), (326, 0), (327, 2), (328, 0),\n",
    "                 (329, 2), (331, -1), (333, 0), (336, 2), (337, 0), (338, 4), (472, 0), (478, 1), (484, -2), (487, 3), (488, 2),\n",
    "                 (489, 1), (492, -2), (495, -2), (497, 2), (631, 1), (634, -3), (640, -2), (641, -2), (657, 0), (661, -3), (667, -2),\n",
    "                 (668, 2), (671, -2), (672, -2), (679, -1), (683, 2), (898, -2), (899, 2), (980, 0), (989, 2), (990, -1), (991, 0),\n",
    "                 (993, -2), (995, 1), (998, 3), (999, 2), (1001, -3), (1002, 3), (1005, -2), (1009, -2), (1223, -2), (1227, -2), (1228, 3),\n",
    "                 (1229, -2), (1230, 1), (1233, 0), (1234, -1), (1295, -2), (1297, -2), (1298, -2), (1300, -2), (1303, 0), (1311, 0),\n",
    "                 (1313, -1), (1314, -2), (1474, 0), (1475, 4), (1480, 3), (1488, -1), (1620, -2), (1671, -2), (1672, -2), (1676, -2),\n",
    "                 (1678, 0), (1679, -2), (1680, -2), (1768, 1), (1782, -2), (1783, -2), (1784, -2), (1786, -2), (1787, 5), (1788, -2),\n",
    "                 (1789, -2), (1853, 5), (1854, -2), (1901, 2), (1906, -2), (1907, -2), (1910, 2), (1913, -2), (1914, -2), (1915, -2),\n",
    "                 (1916, -2), (1917, 4), (1964, -2)]"
   ]
  },
  {
   "cell_type": "code",
   "execution_count": null,
   "metadata": {},
   "outputs": [],
   "source": [
    "len(impute_scores_2012_)+len(impute_scores_2013_)+len(impute_scores_2014_)+len(impute_scores_2015_)+len(impute_scores_2016_)+len(impute_scores_2017_)+len(impute_scores_2018_)"
   ]
  },
  {
   "cell_type": "code",
   "execution_count": null,
   "metadata": {},
   "outputs": [],
   "source": [
    "to_drop_2013_ = [8, 59, 65, 70, 117, 119, 170, 251, 348, 384, 473, 498, 507, 519, 524, 552, 652, 760, 772, 791, 804,\n",
    "                 818, 833, 836, 841, 872, 874, 879, 934, 948, 960, 976, 985, 989, 1031, 1075, 1077, 1100, 1104, 1134,\n",
    "                 1145, 1295, 1312, 1314, 1355, 1388, 1396, 1442, 1605, 1669, 1673, 1684, 1693, 1714, 1724, 1727, 1834,\n",
    "                 1845, 1852, 1868, 1876, 1957, 1964, 1970]\n",
    "\n",
    "# 1553 is SANCTIONED, -3\n",
    "impute_scores_2013_ = [(3, 2), (12, 0), (13, 2), (14, 2), (17, 0), (18, 0), (19, 2), (29, -2), (31, 1), (39, 1), (234, -2), (239, 3),\n",
    "                       (260, 2), (365, 1), (369, 2), (379, -2), (386, 2), (388, -2), (393, -2), (508, -2), (528, 1), (553, 0), (563, -2),\n",
    "                       (568, -2), (569, 0), (572, -2), (577, -2), (586, -1), (587, 0), (781, 2), (783, -2), (793, 1), (794, -1), (795, -2),\n",
    "                       (796, 2), (800, 2), (801, 0), (802, -2), (878, -2), (879, 0), (880, 2), (881, -2), (882, 0), (885, 3), (889, 0),\n",
    "                       (890, -2), (892, 2), (1030, -2), (1031, -2), (1032, 0), (1044, 0), (1056, -2), (1058, 0), (1069, 0), (1082, -2),\n",
    "                       (1085, 0), (1088, 2), (1095, -2), (1276, 0), (1283, -2), (1286, 2), (1287, -2), (1296, -2), (1297, 2), (1298, -2),\n",
    "                       (1432, -2), (1435, 2), (1437, -2), (1553, -3), (1556, -2), (1557, 0), (1558, -2), (1559, -2), (1565, -1), (1567, 2),\n",
    "                       (1568, -1), (1660, -1), (1662, 3), (1688, 2), (1731, 0), (1732, -2), (1733, -2), (1735, -2), (1807, -2), (1810, -2),\n",
    "                       (1811, 3), (1881, -2), (1882, -2), (1883, -2), (1892, -2), (1893, -2), (1903, 0), (1904, 2), (1906, -2)]"
   ]
  },
  {
   "cell_type": "code",
   "execution_count": null,
   "metadata": {},
   "outputs": [],
   "source": [
    "to_drop_2014_ = [11, 12, 51, 61, 69, 102, 121, 133, 195, 202, 207, 210, 251, 277, 278, 289, 290, 322, 332, 333, 334, 335,\n",
    "                 337, 367, 389, 393, 405, 438, 439, 440, 441, 442, 443, 444, 445, 447, 479, 594, 745, 844, 873, 896, 933,\n",
    "                 948, 949, 972, 1084, 1115, 1157, 1178, 1232, 1338, 1361, 1422, 1450, 1489, 1540, 1629, 1784, 1178]\n",
    "impute_scores_2014_ = [(6, 1), (7, -1), (8, -2), (9, 0), (17, 0), (23, 4), (25, -2), (27, -1), (31, 1), (77, 0), (146, -2),\n",
    "                 (183, 2), (184, 1), (185, 1), (186, -2), (187, 2), (188, -2), (190, -2), (191, -2), (199, -2), (203, 0),\n",
    "                 (205, -2), (210, -2), (211, 0), (212, -2), (214, -2), (219, -2), (274, -2), (299, 0), (304, 2), (307, -2),\n",
    "                 (308, 0), (309, -3), (310, -2), (311, -2), (312, 2), (313, 3), (319, 2), (320, 3), (321, -2), (322, -2),\n",
    "                 (323, -2), (326, 2), (363, -2), (400, -2), (401, -2), (402, 0), (403, 2), (404, -2), (405, -2), (406, -2),\n",
    "                 (407, 1), (409, 2), (410, 2), (411, 0), (420, 0), (421, -1), (425, 0), (549, -2), (571, 2), (706, 4),\n",
    "                 (712, 0), (801, 2), (803, 0), (804, 0), (814, -1), (816, -2), (817, -2), (818, 2), (820, 0), (824, -2),\n",
    "                 (918, 0), (919, -2), (962, 1), (970, 1), (979, 3), (983, 0), (1080, -1), (1089, 0), (1093, -2), (1094, -2),\n",
    "                 (1101, 0), (1207, -2), (1306, 2), (1329, -2), (1330, -2), (1331, -2), (1431, 2), (1447, -2), (1449, -2),\n",
    "                 (1532, 0), (1629, -2), (1665, 2), (1666, -3), (1685, 0), (1719, 0), (1720, 0), (1721, 2)]"
   ]
  },
  {
   "cell_type": "code",
   "execution_count": null,
   "metadata": {},
   "outputs": [],
   "source": [
    "to_drop_2015_ =[11, 58, 151, 173, 209, 214, 282, 283, 284, 285, 286, 352, 354, 362, 365, 374, 375, 376, 377, 378, 379,\n",
    "                380, 381, 611, 746, 774, 842, 870, 948, 956, 1006, 1043, 1074, 1077, 1166, 1170, 1313, 1414, 1441, 1448,\n",
    "                1456, 1475, 1486, 1521, 1573, 1600, 549]\n",
    "impute_scores_2015_ = [(2, -2), (22, -2), (24, -1), (31, -2), (153, 0), (197, 3), (198, 1), (200, 1), (205, -1), (208, 2),\n",
    "                 (266, 0), (267, -1), (268, 2), (269, -2), (272, -2), (273, -1), (274, -2), (291, 2), (350, -2), (351, 0),\n",
    "                 (352, 2), (353, -2), (354, -1), (355, -2), (356, -2), (357, -1), (358, -2), (365, 0), (375, 2), (377, -2),\n",
    "                 (497, 0), (506, 0), (581, 3), (583, -1), (586, 2), (594, 2), (716, 2), (722, -2), (723, -2), (731, 2),\n",
    "                 (841, -2), (905, -2), (909, -2), (917, -3), (993, 2), (994, -2), (1042, -2), (1056, -2), (1057, -2),\n",
    "                 (1062, -1), (1233, 2), (1236, -2), (1322, 0), (1324, -2), (1361, -2), (1395, -2), (1396, -2), (1422, 0),\n",
    "                 (1426, 3), (1522, -2), (1536, 0), (1538, -2), (1539, -2), (1541, -1)]"
   ]
  },
  {
   "cell_type": "code",
   "execution_count": null,
   "metadata": {},
   "outputs": [],
   "source": [
    "to_drop_2016_ = [12, 131, 165, 168, 176, 177, 178, 179, 234, 279, 280, 313, 314, 315, 316, 317, 318, 319, 320, 321, 322,\n",
    "                 411, 422, 425, 432, 447, 525, 619, 698, 1426, 1574, 1599, 1601, 1618, 1637, 1646, 572, 550, 48]\n",
    "impute_scores_2016_ = [(13, 1), (24, -2), (164, 3), (165, -2), (167, 3), (168, -1), (169, 1), (170, 2), (176, -2), (177, 0),\n",
    "                 (291, 2), (292, -2), (293, -2), (294, -3), (295, -2), (296, -2), (297, -2), (298, -2), (299, -2), (300, -1),\n",
    "                 (303, -2), (306, -2), (316, -2), (398, 3), (400, 1), (401, 0), (403, 2), (404, -1), (407, -2), (414, 4),\n",
    "                 (417, -2), (498, -2), (671, 0), (681, -1), (1019, -2), (1023, 0), (1383, 0), (1480, 0), (1524, -2), (1525, 0),\n",
    "                 (1528, 0), (1566, -2), (1567, 0), (1593, -2), (1594, 2)]"
   ]
  },
  {
   "cell_type": "code",
   "execution_count": null,
   "metadata": {},
   "outputs": [],
   "source": [
    "to_drop_2017_ = [20, 146, 147, 148, 261, 262, 263, 264, 265, 266, 267, 300, 319, 340, 348, 350, 351, 580, 825, 847, 999,\n",
    "                 1053, 1444]\n",
    "impute_scores_2017_ = [(19, -2), (108, 3), (143, 1), (144, 2), (145, 2), (233, -2), (247, -1), (248, -2), (249, 2), (250, -1),\n",
    "                 (251, -2), (252, 2), (253, -2), (254, -1), (255, -2), (256, 2), (258, 1), (263, -1), (264, 2), (334, 2),\n",
    "                 (336, 0), (346, -2), (442, 2), (560, 2), (569, -2), (592, 2), (654, 2), (657, 0), (820, 2), (821, 2),\n",
    "                 (824, -2), (906, 2), (1022, -2), (1419, 2)]"
   ]
  },
  {
   "cell_type": "code",
   "execution_count": null,
   "metadata": {},
   "outputs": [],
   "source": [
    "to_drop_2018_ = [46]\n",
    "impute_scores_2018_ = [(90, -2), (102, -2), (104, 2), (115, 2), (129, 3)]"
   ]
  },
  {
   "cell_type": "code",
   "execution_count": null,
   "metadata": {},
   "outputs": [],
   "source": []
  }
 ],
 "metadata": {
  "kernelspec": {
   "display_name": "Python 2",
   "language": "python",
   "name": "python2"
  },
  "language_info": {
   "codemirror_mode": {
    "name": "ipython",
    "version": 2
   },
   "file_extension": ".py",
   "mimetype": "text/x-python",
   "name": "python",
   "nbconvert_exporter": "python",
   "pygments_lexer": "ipython2",
   "version": "2.7.14"
  }
 },
 "nbformat": 4,
 "nbformat_minor": 2
}
